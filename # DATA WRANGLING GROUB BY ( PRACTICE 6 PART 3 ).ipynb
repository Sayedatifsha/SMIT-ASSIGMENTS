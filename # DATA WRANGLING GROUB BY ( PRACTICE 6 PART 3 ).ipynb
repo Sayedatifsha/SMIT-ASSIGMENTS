{
 "cells": [
  {
   "cell_type": "markdown",
   "id": "8a756c5d",
   "metadata": {},
   "source": [
    "# GROUP BY (DATA WRANGLING )"
   ]
  },
  {
   "cell_type": "raw",
   "id": "5710ed32",
   "metadata": {},
   "source": [
    "Groupby ka matlab jo jisse taloq rakhta ho uska ek group\n",
    "ban jae .\n",
    "FOR EXMAPLE :\n",
    "we have data :: \n",
    "            \n",
    "             Name  | Grade | Depart  | salaries\n",
    "         ----------------------------------------   \n",
    "           [ ubaid    16    accounts     1k   ]\n",
    "           [ atif     17    accounts     2k   ]\n",
    "           [ furqan   18    info         3k   ]\n",
    "           [ ali      19    taxtion      4k   ]\n",
    "           [ rehan    16    accounts     3k   ]\n",
    "           [ nasir    17    taxtion      4k   ]\n",
    "           [ samad    15    info         3k   ]\n",
    "           [ saad     19    defence      2k   ] \n",
    "           \n",
    "           \n",
    "NOW WE DO GROUP BY :\n",
    "                      \n",
    "                  |  ubaid  16  1k\n",
    "          Account |  rehan  16  3k\n",
    "                  |  atif   17  2k\n",
    "      ---------------------------------\n",
    "      \n",
    "           Tax    |  Nasir  17  4k\n",
    "                  |  ali    19  4k\n",
    "      ---------------------------------\n",
    "      \n",
    "          info    |  furqan  18  3k\n",
    "                  |  samad   15  3k\n",
    "      ---------------------------------             "
   ]
  },
  {
   "cell_type": "code",
   "execution_count": 1,
   "id": "340b576b",
   "metadata": {},
   "outputs": [],
   "source": [
    "import numpy as np\n",
    "import pandas as pd"
   ]
  },
  {
   "cell_type": "code",
   "execution_count": 7,
   "id": "c76f3413",
   "metadata": {},
   "outputs": [],
   "source": [
    "data = pd.read_excel(\"groups.xlsx\",sheet_name=1)"
   ]
  },
  {
   "cell_type": "code",
   "execution_count": 8,
   "id": "36742511",
   "metadata": {},
   "outputs": [
    {
     "data": {
      "text/html": [
       "<div>\n",
       "<style scoped>\n",
       "    .dataframe tbody tr th:only-of-type {\n",
       "        vertical-align: middle;\n",
       "    }\n",
       "\n",
       "    .dataframe tbody tr th {\n",
       "        vertical-align: top;\n",
       "    }\n",
       "\n",
       "    .dataframe thead th {\n",
       "        text-align: right;\n",
       "    }\n",
       "</style>\n",
       "<table border=\"1\" class=\"dataframe\">\n",
       "  <thead>\n",
       "    <tr style=\"text-align: right;\">\n",
       "      <th></th>\n",
       "      <th>Names</th>\n",
       "      <th>Grades</th>\n",
       "      <th>Depts</th>\n",
       "      <th>Salaries</th>\n",
       "    </tr>\n",
       "  </thead>\n",
       "  <tbody>\n",
       "    <tr>\n",
       "      <th>0</th>\n",
       "      <td>Asad</td>\n",
       "      <td>16</td>\n",
       "      <td>Accounts</td>\n",
       "      <td>100</td>\n",
       "    </tr>\n",
       "    <tr>\n",
       "      <th>1</th>\n",
       "      <td>Fahad</td>\n",
       "      <td>17</td>\n",
       "      <td>Taxation</td>\n",
       "      <td>123</td>\n",
       "    </tr>\n",
       "    <tr>\n",
       "      <th>2</th>\n",
       "      <td>Saima</td>\n",
       "      <td>18</td>\n",
       "      <td>Accounts</td>\n",
       "      <td>121</td>\n",
       "    </tr>\n",
       "    <tr>\n",
       "      <th>3</th>\n",
       "      <td>Afzal</td>\n",
       "      <td>19</td>\n",
       "      <td>Taxation</td>\n",
       "      <td>98</td>\n",
       "    </tr>\n",
       "    <tr>\n",
       "      <th>4</th>\n",
       "      <td>Yasir</td>\n",
       "      <td>16</td>\n",
       "      <td>Information</td>\n",
       "      <td>99</td>\n",
       "    </tr>\n",
       "    <tr>\n",
       "      <th>5</th>\n",
       "      <td>Nasir</td>\n",
       "      <td>19</td>\n",
       "      <td>Defence</td>\n",
       "      <td>100</td>\n",
       "    </tr>\n",
       "    <tr>\n",
       "      <th>6</th>\n",
       "      <td>Husain</td>\n",
       "      <td>14</td>\n",
       "      <td>Accounts</td>\n",
       "      <td>123</td>\n",
       "    </tr>\n",
       "    <tr>\n",
       "      <th>7</th>\n",
       "      <td>Hassan</td>\n",
       "      <td>17</td>\n",
       "      <td>Information</td>\n",
       "      <td>122</td>\n",
       "    </tr>\n",
       "    <tr>\n",
       "      <th>8</th>\n",
       "      <td>Jami</td>\n",
       "      <td>17</td>\n",
       "      <td>Defence</td>\n",
       "      <td>156</td>\n",
       "    </tr>\n",
       "    <tr>\n",
       "      <th>9</th>\n",
       "      <td>Haseb</td>\n",
       "      <td>18</td>\n",
       "      <td>Accounts</td>\n",
       "      <td>160</td>\n",
       "    </tr>\n",
       "    <tr>\n",
       "      <th>10</th>\n",
       "      <td>Ahmed</td>\n",
       "      <td>16</td>\n",
       "      <td>Accounts</td>\n",
       "      <td>456</td>\n",
       "    </tr>\n",
       "  </tbody>\n",
       "</table>\n",
       "</div>"
      ],
      "text/plain": [
       "      Names  Grades        Depts  Salaries \n",
       "0      Asad      16     Accounts        100\n",
       "1     Fahad      17     Taxation        123\n",
       "2     Saima      18     Accounts        121\n",
       "3    Afzal       19     Taxation         98\n",
       "4    Yasir       16  Information         99\n",
       "5    Nasir       19     Defence         100\n",
       "6   Husain       14     Accounts        123\n",
       "7   Hassan       17  Information        122\n",
       "8      Jami      17     Defence         156\n",
       "9     Haseb      18     Accounts        160\n",
       "10    Ahmed      16     Accounts        456"
      ]
     },
     "execution_count": 8,
     "metadata": {},
     "output_type": "execute_result"
    }
   ],
   "source": [
    "data"
   ]
  },
  {
   "cell_type": "code",
   "execution_count": 10,
   "id": "6b7eacbd",
   "metadata": {},
   "outputs": [
    {
     "data": {
      "text/plain": [
       "array(['Accounts', 'Taxation', 'Information', 'Defence '], dtype=object)"
      ]
     },
     "execution_count": 10,
     "metadata": {},
     "output_type": "execute_result"
    }
   ],
   "source": [
    "data.Depts.unique()\n",
    "# note defence me space he ise khatam karna huga ."
   ]
  },
  {
   "cell_type": "code",
   "execution_count": 17,
   "id": "7b53c62f",
   "metadata": {},
   "outputs": [
    {
     "data": {
      "text/plain": [
       "0        Accounts\n",
       "1        Taxation\n",
       "2        Accounts\n",
       "3        Taxation\n",
       "4     Information\n",
       "5         Defence\n",
       "6        Accounts\n",
       "7     Information\n",
       "8         Defence\n",
       "9        Accounts\n",
       "10       Accounts\n",
       "Name: Depts, dtype: object"
      ]
     },
     "execution_count": 17,
     "metadata": {},
     "output_type": "execute_result"
    }
   ],
   "source": [
    "# khatam karne ka tariqa .\n",
    "data.Depts = data.Depts.apply(lambda x: x.strip())"
   ]
  },
  {
   "cell_type": "code",
   "execution_count": 21,
   "id": "b7ba7fc4",
   "metadata": {},
   "outputs": [],
   "source": [
    "data.Depts = data.Depts.apply(lambda x: x.strip())"
   ]
  },
  {
   "cell_type": "code",
   "execution_count": 22,
   "id": "97ffcd37",
   "metadata": {},
   "outputs": [
    {
     "data": {
      "text/plain": [
       "array(['Accounts', 'Taxation', 'Information', 'Defence'], dtype=object)"
      ]
     },
     "execution_count": 22,
     "metadata": {},
     "output_type": "execute_result"
    }
   ],
   "source": [
    "# ab space khatam lambda ki help se\n",
    "data.Depts.unique()"
   ]
  },
  {
   "cell_type": "code",
   "execution_count": 12,
   "id": "b6fbbd6e",
   "metadata": {},
   "outputs": [
    {
     "data": {
      "text/html": [
       "<div>\n",
       "<style scoped>\n",
       "    .dataframe tbody tr th:only-of-type {\n",
       "        vertical-align: middle;\n",
       "    }\n",
       "\n",
       "    .dataframe tbody tr th {\n",
       "        vertical-align: top;\n",
       "    }\n",
       "\n",
       "    .dataframe thead th {\n",
       "        text-align: right;\n",
       "    }\n",
       "</style>\n",
       "<table border=\"1\" class=\"dataframe\">\n",
       "  <thead>\n",
       "    <tr style=\"text-align: right;\">\n",
       "      <th></th>\n",
       "      <th>Names</th>\n",
       "      <th>Grades</th>\n",
       "      <th>Depts</th>\n",
       "      <th>Salaries</th>\n",
       "    </tr>\n",
       "  </thead>\n",
       "  <tbody>\n",
       "    <tr>\n",
       "      <th>1</th>\n",
       "      <td>Fahad</td>\n",
       "      <td>17</td>\n",
       "      <td>Taxation</td>\n",
       "      <td>123</td>\n",
       "    </tr>\n",
       "    <tr>\n",
       "      <th>3</th>\n",
       "      <td>Afzal</td>\n",
       "      <td>19</td>\n",
       "      <td>Taxation</td>\n",
       "      <td>98</td>\n",
       "    </tr>\n",
       "  </tbody>\n",
       "</table>\n",
       "</div>"
      ],
      "text/plain": [
       "    Names  Grades     Depts  Salaries \n",
       "1   Fahad      17  Taxation        123\n",
       "3  Afzal       19  Taxation         98"
      ]
     },
     "execution_count": 12,
     "metadata": {},
     "output_type": "execute_result"
    }
   ],
   "source": [
    "taxt=data[data.Depts==\"Taxation\"]\n",
    "taxt"
   ]
  },
  {
   "cell_type": "code",
   "execution_count": 13,
   "id": "698d24d2",
   "metadata": {},
   "outputs": [
    {
     "data": {
      "text/html": [
       "<div>\n",
       "<style scoped>\n",
       "    .dataframe tbody tr th:only-of-type {\n",
       "        vertical-align: middle;\n",
       "    }\n",
       "\n",
       "    .dataframe tbody tr th {\n",
       "        vertical-align: top;\n",
       "    }\n",
       "\n",
       "    .dataframe thead th {\n",
       "        text-align: right;\n",
       "    }\n",
       "</style>\n",
       "<table border=\"1\" class=\"dataframe\">\n",
       "  <thead>\n",
       "    <tr style=\"text-align: right;\">\n",
       "      <th></th>\n",
       "      <th>Names</th>\n",
       "      <th>Grades</th>\n",
       "      <th>Depts</th>\n",
       "      <th>Salaries</th>\n",
       "    </tr>\n",
       "  </thead>\n",
       "  <tbody>\n",
       "    <tr>\n",
       "      <th>0</th>\n",
       "      <td>Asad</td>\n",
       "      <td>16</td>\n",
       "      <td>Accounts</td>\n",
       "      <td>100</td>\n",
       "    </tr>\n",
       "    <tr>\n",
       "      <th>2</th>\n",
       "      <td>Saima</td>\n",
       "      <td>18</td>\n",
       "      <td>Accounts</td>\n",
       "      <td>121</td>\n",
       "    </tr>\n",
       "    <tr>\n",
       "      <th>6</th>\n",
       "      <td>Husain</td>\n",
       "      <td>14</td>\n",
       "      <td>Accounts</td>\n",
       "      <td>123</td>\n",
       "    </tr>\n",
       "    <tr>\n",
       "      <th>9</th>\n",
       "      <td>Haseb</td>\n",
       "      <td>18</td>\n",
       "      <td>Accounts</td>\n",
       "      <td>160</td>\n",
       "    </tr>\n",
       "    <tr>\n",
       "      <th>10</th>\n",
       "      <td>Ahmed</td>\n",
       "      <td>16</td>\n",
       "      <td>Accounts</td>\n",
       "      <td>456</td>\n",
       "    </tr>\n",
       "  </tbody>\n",
       "</table>\n",
       "</div>"
      ],
      "text/plain": [
       "      Names  Grades     Depts  Salaries \n",
       "0      Asad      16  Accounts        100\n",
       "2     Saima      18  Accounts        121\n",
       "6   Husain       14  Accounts        123\n",
       "9     Haseb      18  Accounts        160\n",
       "10    Ahmed      16  Accounts        456"
      ]
     },
     "execution_count": 13,
     "metadata": {},
     "output_type": "execute_result"
    }
   ],
   "source": [
    "Depart=data[data.Depts==\"Accounts\"]\n",
    "Depart"
   ]
  },
  {
   "cell_type": "code",
   "execution_count": 14,
   "id": "7a6294f2",
   "metadata": {},
   "outputs": [
    {
     "data": {
      "text/html": [
       "<div>\n",
       "<style scoped>\n",
       "    .dataframe tbody tr th:only-of-type {\n",
       "        vertical-align: middle;\n",
       "    }\n",
       "\n",
       "    .dataframe tbody tr th {\n",
       "        vertical-align: top;\n",
       "    }\n",
       "\n",
       "    .dataframe thead th {\n",
       "        text-align: right;\n",
       "    }\n",
       "</style>\n",
       "<table border=\"1\" class=\"dataframe\">\n",
       "  <thead>\n",
       "    <tr style=\"text-align: right;\">\n",
       "      <th></th>\n",
       "      <th>Names</th>\n",
       "      <th>Grades</th>\n",
       "      <th>Depts</th>\n",
       "      <th>Salaries</th>\n",
       "    </tr>\n",
       "  </thead>\n",
       "  <tbody>\n",
       "    <tr>\n",
       "      <th>4</th>\n",
       "      <td>Yasir</td>\n",
       "      <td>16</td>\n",
       "      <td>Information</td>\n",
       "      <td>99</td>\n",
       "    </tr>\n",
       "    <tr>\n",
       "      <th>7</th>\n",
       "      <td>Hassan</td>\n",
       "      <td>17</td>\n",
       "      <td>Information</td>\n",
       "      <td>122</td>\n",
       "    </tr>\n",
       "  </tbody>\n",
       "</table>\n",
       "</div>"
      ],
      "text/plain": [
       "     Names  Grades        Depts  Salaries \n",
       "4   Yasir       16  Information         99\n",
       "7  Hassan       17  Information        122"
      ]
     },
     "execution_count": 14,
     "metadata": {},
     "output_type": "execute_result"
    }
   ],
   "source": [
    "info=data[data.Depts==\"Information\"]\n",
    "info"
   ]
  },
  {
   "cell_type": "code",
   "execution_count": 23,
   "id": "c4533840",
   "metadata": {},
   "outputs": [
    {
     "data": {
      "text/html": [
       "<div>\n",
       "<style scoped>\n",
       "    .dataframe tbody tr th:only-of-type {\n",
       "        vertical-align: middle;\n",
       "    }\n",
       "\n",
       "    .dataframe tbody tr th {\n",
       "        vertical-align: top;\n",
       "    }\n",
       "\n",
       "    .dataframe thead th {\n",
       "        text-align: right;\n",
       "    }\n",
       "</style>\n",
       "<table border=\"1\" class=\"dataframe\">\n",
       "  <thead>\n",
       "    <tr style=\"text-align: right;\">\n",
       "      <th></th>\n",
       "      <th>Names</th>\n",
       "      <th>Grades</th>\n",
       "      <th>Depts</th>\n",
       "      <th>Salaries</th>\n",
       "    </tr>\n",
       "  </thead>\n",
       "  <tbody>\n",
       "    <tr>\n",
       "      <th>5</th>\n",
       "      <td>Nasir</td>\n",
       "      <td>19</td>\n",
       "      <td>Defence</td>\n",
       "      <td>100</td>\n",
       "    </tr>\n",
       "    <tr>\n",
       "      <th>8</th>\n",
       "      <td>Jami</td>\n",
       "      <td>17</td>\n",
       "      <td>Defence</td>\n",
       "      <td>156</td>\n",
       "    </tr>\n",
       "  </tbody>\n",
       "</table>\n",
       "</div>"
      ],
      "text/plain": [
       "    Names  Grades    Depts  Salaries \n",
       "5  Nasir       19  Defence        100\n",
       "8    Jami      17  Defence        156"
      ]
     },
     "execution_count": 23,
     "metadata": {},
     "output_type": "execute_result"
    }
   ],
   "source": [
    "defence = data[data.Depts==\"Defence\"]\n",
    "defence"
   ]
  },
  {
   "cell_type": "code",
   "execution_count": 25,
   "id": "83f232a9",
   "metadata": {},
   "outputs": [
    {
     "data": {
      "text/plain": [
       "<pandas.core.groupby.generic.DataFrameGroupBy object at 0x000001FF2C3D0090>"
      ]
     },
     "execution_count": 25,
     "metadata": {},
     "output_type": "execute_result"
    }
   ],
   "source": [
    "# data ko group by karna \n",
    "data.groupby(\"Depts\")\n",
    "#group by hu gaya he laken result nahi aya "
   ]
  },
  {
   "cell_type": "code",
   "execution_count": 26,
   "id": "2af8eb2d",
   "metadata": {},
   "outputs": [
    {
     "data": {
      "text/plain": [
       "{'Accounts': [0, 2, 6, 9, 10], 'Defence': [5, 8], 'Information': [4, 7], 'Taxation': [1, 3]}"
      ]
     },
     "execution_count": 26,
     "metadata": {},
     "output_type": "execute_result"
    }
   ],
   "source": [
    "# result lane ka tariqa\n",
    "# groupby karne ke bad hame aggregate funtion ka used karna huta he \n",
    "data.groupby(\"Depts\").groups\n",
    "# ab ya hame bata raha heke kis group me kitne valuse he\n",
    "# matlab ke index number bata raha  he ke ya number wale isme shamil he"
   ]
  },
  {
   "cell_type": "code",
   "execution_count": 27,
   "id": "2e65298e",
   "metadata": {},
   "outputs": [
    {
     "data": {
      "text/html": [
       "<div>\n",
       "<style scoped>\n",
       "    .dataframe tbody tr th:only-of-type {\n",
       "        vertical-align: middle;\n",
       "    }\n",
       "\n",
       "    .dataframe tbody tr th {\n",
       "        vertical-align: top;\n",
       "    }\n",
       "\n",
       "    .dataframe thead th {\n",
       "        text-align: right;\n",
       "    }\n",
       "</style>\n",
       "<table border=\"1\" class=\"dataframe\">\n",
       "  <thead>\n",
       "    <tr style=\"text-align: right;\">\n",
       "      <th></th>\n",
       "      <th>Names</th>\n",
       "      <th>Grades</th>\n",
       "      <th>Depts</th>\n",
       "      <th>Salaries</th>\n",
       "    </tr>\n",
       "  </thead>\n",
       "  <tbody>\n",
       "    <tr>\n",
       "      <th>0</th>\n",
       "      <td>Asad</td>\n",
       "      <td>16</td>\n",
       "      <td>Accounts</td>\n",
       "      <td>100</td>\n",
       "    </tr>\n",
       "    <tr>\n",
       "      <th>2</th>\n",
       "      <td>Saima</td>\n",
       "      <td>18</td>\n",
       "      <td>Accounts</td>\n",
       "      <td>121</td>\n",
       "    </tr>\n",
       "    <tr>\n",
       "      <th>6</th>\n",
       "      <td>Husain</td>\n",
       "      <td>14</td>\n",
       "      <td>Accounts</td>\n",
       "      <td>123</td>\n",
       "    </tr>\n",
       "    <tr>\n",
       "      <th>9</th>\n",
       "      <td>Haseb</td>\n",
       "      <td>18</td>\n",
       "      <td>Accounts</td>\n",
       "      <td>160</td>\n",
       "    </tr>\n",
       "    <tr>\n",
       "      <th>10</th>\n",
       "      <td>Ahmed</td>\n",
       "      <td>16</td>\n",
       "      <td>Accounts</td>\n",
       "      <td>456</td>\n",
       "    </tr>\n",
       "  </tbody>\n",
       "</table>\n",
       "</div>"
      ],
      "text/plain": [
       "      Names  Grades     Depts  Salaries \n",
       "0      Asad      16  Accounts        100\n",
       "2     Saima      18  Accounts        121\n",
       "6   Husain       14  Accounts        123\n",
       "9     Haseb      18  Accounts        160\n",
       "10    Ahmed      16  Accounts        456"
      ]
     },
     "execution_count": 27,
     "metadata": {},
     "output_type": "execute_result"
    }
   ],
   "source": [
    "# aghar muja koi group chaheya ho\n",
    "data.groupby(\"Depts\").get_group(\"Accounts\")"
   ]
  },
  {
   "cell_type": "code",
   "execution_count": 28,
   "id": "6282b08a",
   "metadata": {},
   "outputs": [],
   "source": [
    "# aghar bar bar process repeset nai karna huto \n",
    "gb = data.groupby(\"Depts\")"
   ]
  },
  {
   "cell_type": "code",
   "execution_count": 31,
   "id": "82ad64c0",
   "metadata": {},
   "outputs": [
    {
     "data": {
      "text/html": [
       "<div>\n",
       "<style scoped>\n",
       "    .dataframe tbody tr th:only-of-type {\n",
       "        vertical-align: middle;\n",
       "    }\n",
       "\n",
       "    .dataframe tbody tr th {\n",
       "        vertical-align: top;\n",
       "    }\n",
       "\n",
       "    .dataframe thead th {\n",
       "        text-align: right;\n",
       "    }\n",
       "</style>\n",
       "<table border=\"1\" class=\"dataframe\">\n",
       "  <thead>\n",
       "    <tr style=\"text-align: right;\">\n",
       "      <th></th>\n",
       "      <th>Names</th>\n",
       "      <th>Grades</th>\n",
       "      <th>Depts</th>\n",
       "      <th>Salaries</th>\n",
       "    </tr>\n",
       "  </thead>\n",
       "  <tbody>\n",
       "    <tr>\n",
       "      <th>4</th>\n",
       "      <td>Yasir</td>\n",
       "      <td>16</td>\n",
       "      <td>Information</td>\n",
       "      <td>99</td>\n",
       "    </tr>\n",
       "    <tr>\n",
       "      <th>7</th>\n",
       "      <td>Hassan</td>\n",
       "      <td>17</td>\n",
       "      <td>Information</td>\n",
       "      <td>122</td>\n",
       "    </tr>\n",
       "  </tbody>\n",
       "</table>\n",
       "</div>"
      ],
      "text/plain": [
       "     Names  Grades        Depts  Salaries \n",
       "4   Yasir       16  Information         99\n",
       "7  Hassan       17  Information        122"
      ]
     },
     "execution_count": 31,
     "metadata": {},
     "output_type": "execute_result"
    }
   ],
   "source": [
    "gb.get_group(\"Information\")"
   ]
  },
  {
   "cell_type": "code",
   "execution_count": 32,
   "id": "a7e003d9",
   "metadata": {},
   "outputs": [
    {
     "ename": "KeyError",
     "evalue": "'salaries'",
     "output_type": "error",
     "traceback": [
      "\u001b[1;31m---------------------------------------------------------------------------\u001b[0m",
      "\u001b[1;31mKeyError\u001b[0m                                  Traceback (most recent call last)",
      "File \u001b[1;32m~\\anaconda3\\treaning\\Lib\\site-packages\\pandas\\core\\indexes\\base.py:3653\u001b[0m, in \u001b[0;36mIndex.get_loc\u001b[1;34m(self, key)\u001b[0m\n\u001b[0;32m   3652\u001b[0m \u001b[38;5;28;01mtry\u001b[39;00m:\n\u001b[1;32m-> 3653\u001b[0m     \u001b[38;5;28;01mreturn\u001b[39;00m \u001b[38;5;28mself\u001b[39m\u001b[38;5;241m.\u001b[39m_engine\u001b[38;5;241m.\u001b[39mget_loc(casted_key)\n\u001b[0;32m   3654\u001b[0m \u001b[38;5;28;01mexcept\u001b[39;00m \u001b[38;5;167;01mKeyError\u001b[39;00m \u001b[38;5;28;01mas\u001b[39;00m err:\n",
      "File \u001b[1;32m~\\anaconda3\\treaning\\Lib\\site-packages\\pandas\\_libs\\index.pyx:147\u001b[0m, in \u001b[0;36mpandas._libs.index.IndexEngine.get_loc\u001b[1;34m()\u001b[0m\n",
      "File \u001b[1;32m~\\anaconda3\\treaning\\Lib\\site-packages\\pandas\\_libs\\index.pyx:176\u001b[0m, in \u001b[0;36mpandas._libs.index.IndexEngine.get_loc\u001b[1;34m()\u001b[0m\n",
      "File \u001b[1;32mpandas\\_libs\\hashtable_class_helper.pxi:7080\u001b[0m, in \u001b[0;36mpandas._libs.hashtable.PyObjectHashTable.get_item\u001b[1;34m()\u001b[0m\n",
      "File \u001b[1;32mpandas\\_libs\\hashtable_class_helper.pxi:7088\u001b[0m, in \u001b[0;36mpandas._libs.hashtable.PyObjectHashTable.get_item\u001b[1;34m()\u001b[0m\n",
      "\u001b[1;31mKeyError\u001b[0m: 'salaries'",
      "\nThe above exception was the direct cause of the following exception:\n",
      "\u001b[1;31mKeyError\u001b[0m                                  Traceback (most recent call last)",
      "Cell \u001b[1;32mIn[32], line 1\u001b[0m\n\u001b[1;32m----> 1\u001b[0m gb\u001b[38;5;241m.\u001b[39mget_group(\u001b[38;5;124m\"\u001b[39m\u001b[38;5;124mInformation\u001b[39m\u001b[38;5;124m\"\u001b[39m)[\u001b[38;5;124m\"\u001b[39m\u001b[38;5;124msalaries\u001b[39m\u001b[38;5;124m\"\u001b[39m]\n",
      "File \u001b[1;32m~\\anaconda3\\treaning\\Lib\\site-packages\\pandas\\core\\frame.py:3761\u001b[0m, in \u001b[0;36mDataFrame.__getitem__\u001b[1;34m(self, key)\u001b[0m\n\u001b[0;32m   3759\u001b[0m \u001b[38;5;28;01mif\u001b[39;00m \u001b[38;5;28mself\u001b[39m\u001b[38;5;241m.\u001b[39mcolumns\u001b[38;5;241m.\u001b[39mnlevels \u001b[38;5;241m>\u001b[39m \u001b[38;5;241m1\u001b[39m:\n\u001b[0;32m   3760\u001b[0m     \u001b[38;5;28;01mreturn\u001b[39;00m \u001b[38;5;28mself\u001b[39m\u001b[38;5;241m.\u001b[39m_getitem_multilevel(key)\n\u001b[1;32m-> 3761\u001b[0m indexer \u001b[38;5;241m=\u001b[39m \u001b[38;5;28mself\u001b[39m\u001b[38;5;241m.\u001b[39mcolumns\u001b[38;5;241m.\u001b[39mget_loc(key)\n\u001b[0;32m   3762\u001b[0m \u001b[38;5;28;01mif\u001b[39;00m is_integer(indexer):\n\u001b[0;32m   3763\u001b[0m     indexer \u001b[38;5;241m=\u001b[39m [indexer]\n",
      "File \u001b[1;32m~\\anaconda3\\treaning\\Lib\\site-packages\\pandas\\core\\indexes\\base.py:3655\u001b[0m, in \u001b[0;36mIndex.get_loc\u001b[1;34m(self, key)\u001b[0m\n\u001b[0;32m   3653\u001b[0m     \u001b[38;5;28;01mreturn\u001b[39;00m \u001b[38;5;28mself\u001b[39m\u001b[38;5;241m.\u001b[39m_engine\u001b[38;5;241m.\u001b[39mget_loc(casted_key)\n\u001b[0;32m   3654\u001b[0m \u001b[38;5;28;01mexcept\u001b[39;00m \u001b[38;5;167;01mKeyError\u001b[39;00m \u001b[38;5;28;01mas\u001b[39;00m err:\n\u001b[1;32m-> 3655\u001b[0m     \u001b[38;5;28;01mraise\u001b[39;00m \u001b[38;5;167;01mKeyError\u001b[39;00m(key) \u001b[38;5;28;01mfrom\u001b[39;00m \u001b[38;5;21;01merr\u001b[39;00m\n\u001b[0;32m   3656\u001b[0m \u001b[38;5;28;01mexcept\u001b[39;00m \u001b[38;5;167;01mTypeError\u001b[39;00m:\n\u001b[0;32m   3657\u001b[0m     \u001b[38;5;66;03m# If we have a listlike key, _check_indexing_error will raise\u001b[39;00m\n\u001b[0;32m   3658\u001b[0m     \u001b[38;5;66;03m#  InvalidIndexError. Otherwise we fall through and re-raise\u001b[39;00m\n\u001b[0;32m   3659\u001b[0m     \u001b[38;5;66;03m#  the TypeError.\u001b[39;00m\n\u001b[0;32m   3660\u001b[0m     \u001b[38;5;28mself\u001b[39m\u001b[38;5;241m.\u001b[39m_check_indexing_error(key)\n",
      "\u001b[1;31mKeyError\u001b[0m: 'salaries'"
     ]
    }
   ],
   "source": [
    "# Error is leya aya he q ke  salaries me space aya he data ke under \n",
    "gb.get_group(\"Information\")[\"salaries\"]"
   ]
  },
  {
   "cell_type": "code",
   "execution_count": 33,
   "id": "98646a58",
   "metadata": {},
   "outputs": [],
   "source": [
    "# now fix this Error\n",
    "#isme hum pehle columns me ghae or kaha ke salaries space wale ko esa kardo\n",
    "#yani ke bagheer space ke kardo [before \"salaries \" after \"salaries\"]\n",
    "# inplace true ka matlab data ka jo sheet he usse parmenet change hu jae\n",
    "data.rename(columns={\"Salaries \": \"Salaries\"}, inplace=True)"
   ]
  },
  {
   "cell_type": "code",
   "execution_count": 35,
   "id": "f9cef86d",
   "metadata": {},
   "outputs": [
    {
     "data": {
      "text/plain": [
       "4     99\n",
       "7    122\n",
       "Name: Salaries, dtype: int64"
      ]
     },
     "execution_count": 35,
     "metadata": {},
     "output_type": "execute_result"
    }
   ],
   "source": [
    "# fix error \n",
    "gb.get_group(\"Information\")[\"Salaries\"]\n",
    "#isme ab bata raha he ke 4 index wale ka selery itna he or 7 wale ka itna"
   ]
  },
  {
   "cell_type": "code",
   "execution_count": 37,
   "id": "0f088c8d",
   "metadata": {},
   "outputs": [],
   "source": [
    "# ab hum grades par group lete hen\n",
    "# sub se pehle grades group ko name dena huga \n",
    "gb_grades = data.groupby(\"Grades\") "
   ]
  },
  {
   "cell_type": "code",
   "execution_count": 44,
   "id": "1fc4ebcf",
   "metadata": {},
   "outputs": [
    {
     "data": {
      "text/plain": [
       "array([16, 17, 18, 19, 14], dtype=int64)"
      ]
     },
     "execution_count": 44,
     "metadata": {},
     "output_type": "execute_result"
    }
   ],
   "source": [
    "data.Grades.unique()"
   ]
  },
  {
   "cell_type": "code",
   "execution_count": 40,
   "id": "c107d1ea",
   "metadata": {},
   "outputs": [
    {
     "data": {
      "text/html": [
       "<div>\n",
       "<style scoped>\n",
       "    .dataframe tbody tr th:only-of-type {\n",
       "        vertical-align: middle;\n",
       "    }\n",
       "\n",
       "    .dataframe tbody tr th {\n",
       "        vertical-align: top;\n",
       "    }\n",
       "\n",
       "    .dataframe thead th {\n",
       "        text-align: right;\n",
       "    }\n",
       "</style>\n",
       "<table border=\"1\" class=\"dataframe\">\n",
       "  <thead>\n",
       "    <tr style=\"text-align: right;\">\n",
       "      <th></th>\n",
       "      <th>Names</th>\n",
       "      <th>Grades</th>\n",
       "      <th>Depts</th>\n",
       "      <th>Salaries</th>\n",
       "    </tr>\n",
       "  </thead>\n",
       "  <tbody>\n",
       "    <tr>\n",
       "      <th>0</th>\n",
       "      <td>Asad</td>\n",
       "      <td>16</td>\n",
       "      <td>Accounts</td>\n",
       "      <td>100</td>\n",
       "    </tr>\n",
       "    <tr>\n",
       "      <th>4</th>\n",
       "      <td>Yasir</td>\n",
       "      <td>16</td>\n",
       "      <td>Information</td>\n",
       "      <td>99</td>\n",
       "    </tr>\n",
       "    <tr>\n",
       "      <th>10</th>\n",
       "      <td>Ahmed</td>\n",
       "      <td>16</td>\n",
       "      <td>Accounts</td>\n",
       "      <td>456</td>\n",
       "    </tr>\n",
       "  </tbody>\n",
       "</table>\n",
       "</div>"
      ],
      "text/plain": [
       "     Names  Grades        Depts  Salaries\n",
       "0     Asad      16     Accounts       100\n",
       "4   Yasir       16  Information        99\n",
       "10   Ahmed      16     Accounts       456"
      ]
     },
     "execution_count": 40,
     "metadata": {},
     "output_type": "execute_result"
    }
   ],
   "source": [
    "# Grades me jo 16 grade ke hw who nikal aegha\n",
    "gb_grades.get_group(16)"
   ]
  },
  {
   "cell_type": "code",
   "execution_count": 45,
   "id": "9945a932",
   "metadata": {},
   "outputs": [
    {
     "data": {
      "text/plain": [
       "{14: [6], 16: [0, 4, 10], 17: [1, 7, 8], 18: [2, 9], 19: [3, 5]}"
      ]
     },
     "execution_count": 45,
     "metadata": {},
     "output_type": "execute_result"
    }
   ],
   "source": [
    "gb_grades.groups"
   ]
  },
  {
   "cell_type": "markdown",
   "id": "f3800003",
   "metadata": {},
   "source": [
    "###  working on data"
   ]
  },
  {
   "cell_type": "code",
   "execution_count": 2,
   "id": "abf4dc95",
   "metadata": {},
   "outputs": [],
   "source": [
    "import numpy as np\n",
    "import pandas as pd"
   ]
  },
  {
   "cell_type": "code",
   "execution_count": 3,
   "id": "f5fa0c85",
   "metadata": {},
   "outputs": [],
   "source": [
    "url1 = \"https://raw.githubusercontent.com/FBosler/Medium-Data-Exploration/master/order_leads.csv\"\n",
    "url2 = \"https://raw.githubusercontent.com/FBosler/Medium-Data-Exploration/master/sales_team.csv\"\n",
    "order_leads = pd.read_csv(url1, parse_dates=[3])\n",
    "                          # [3] ka matlab he index 3 columns ka"
   ]
  },
  {
   "cell_type": "code",
   "execution_count": 4,
   "id": "170c4d79",
   "metadata": {},
   "outputs": [
    {
     "data": {
      "text/html": [
       "<div>\n",
       "<style scoped>\n",
       "    .dataframe tbody tr th:only-of-type {\n",
       "        vertical-align: middle;\n",
       "    }\n",
       "\n",
       "    .dataframe tbody tr th {\n",
       "        vertical-align: top;\n",
       "    }\n",
       "\n",
       "    .dataframe thead th {\n",
       "        text-align: right;\n",
       "    }\n",
       "</style>\n",
       "<table border=\"1\" class=\"dataframe\">\n",
       "  <thead>\n",
       "    <tr style=\"text-align: right;\">\n",
       "      <th></th>\n",
       "      <th>Order Id</th>\n",
       "      <th>Company Id</th>\n",
       "      <th>Company Name</th>\n",
       "      <th>Date</th>\n",
       "      <th>Order Value</th>\n",
       "      <th>Converted</th>\n",
       "    </tr>\n",
       "  </thead>\n",
       "  <tbody>\n",
       "    <tr>\n",
       "      <th>0</th>\n",
       "      <td>HZSXLI1IS9RGABZW</td>\n",
       "      <td>D0AUXPP07H6AVSGD</td>\n",
       "      <td>Melancholy Social-Role</td>\n",
       "      <td>2017-10-13</td>\n",
       "      <td>6952</td>\n",
       "      <td>0</td>\n",
       "    </tr>\n",
       "    <tr>\n",
       "      <th>1</th>\n",
       "      <td>582WPS3OW8T6YT0R</td>\n",
       "      <td>D0AUXPP07H6AVSGD</td>\n",
       "      <td>Melancholy Social-Role</td>\n",
       "      <td>2017-09-02</td>\n",
       "      <td>7930</td>\n",
       "      <td>0</td>\n",
       "    </tr>\n",
       "    <tr>\n",
       "      <th>2</th>\n",
       "      <td>KRF65MQZBOYG4Y9T</td>\n",
       "      <td>D0AUXPP07H6AVSGD</td>\n",
       "      <td>Melancholy Social-Role</td>\n",
       "      <td>2016-12-21</td>\n",
       "      <td>5538</td>\n",
       "      <td>1</td>\n",
       "    </tr>\n",
       "    <tr>\n",
       "      <th>3</th>\n",
       "      <td>N3EDZ5V1WGSWW828</td>\n",
       "      <td>D0AUXPP07H6AVSGD</td>\n",
       "      <td>Melancholy Social-Role</td>\n",
       "      <td>2018-06-03</td>\n",
       "      <td>1113</td>\n",
       "      <td>0</td>\n",
       "    </tr>\n",
       "    <tr>\n",
       "      <th>4</th>\n",
       "      <td>QXBC8COXEXGFSPLP</td>\n",
       "      <td>D0AUXPP07H6AVSGD</td>\n",
       "      <td>Melancholy Social-Role</td>\n",
       "      <td>2014-07-26</td>\n",
       "      <td>4596</td>\n",
       "      <td>0</td>\n",
       "    </tr>\n",
       "  </tbody>\n",
       "</table>\n",
       "</div>"
      ],
      "text/plain": [
       "           Order Id        Company Id            Company Name       Date  \\\n",
       "0  HZSXLI1IS9RGABZW  D0AUXPP07H6AVSGD  Melancholy Social-Role 2017-10-13   \n",
       "1  582WPS3OW8T6YT0R  D0AUXPP07H6AVSGD  Melancholy Social-Role 2017-09-02   \n",
       "2  KRF65MQZBOYG4Y9T  D0AUXPP07H6AVSGD  Melancholy Social-Role 2016-12-21   \n",
       "3  N3EDZ5V1WGSWW828  D0AUXPP07H6AVSGD  Melancholy Social-Role 2018-06-03   \n",
       "4  QXBC8COXEXGFSPLP  D0AUXPP07H6AVSGD  Melancholy Social-Role 2014-07-26   \n",
       "\n",
       "   Order Value  Converted  \n",
       "0         6952          0  \n",
       "1         7930          0  \n",
       "2         5538          1  \n",
       "3         1113          0  \n",
       "4         4596          0  "
      ]
     },
     "execution_count": 4,
     "metadata": {},
     "output_type": "execute_result"
    }
   ],
   "source": [
    "order_leads.head()"
   ]
  },
  {
   "cell_type": "code",
   "execution_count": 5,
   "id": "896b643c",
   "metadata": {},
   "outputs": [
    {
     "data": {
      "text/html": [
       "<div>\n",
       "<style scoped>\n",
       "    .dataframe tbody tr th:only-of-type {\n",
       "        vertical-align: middle;\n",
       "    }\n",
       "\n",
       "    .dataframe tbody tr th {\n",
       "        vertical-align: top;\n",
       "    }\n",
       "\n",
       "    .dataframe thead th {\n",
       "        text-align: right;\n",
       "    }\n",
       "</style>\n",
       "<table border=\"1\" class=\"dataframe\">\n",
       "  <thead>\n",
       "    <tr style=\"text-align: right;\">\n",
       "      <th></th>\n",
       "      <th>Sales Rep</th>\n",
       "      <th>Sales Rep Id</th>\n",
       "      <th>Company Name</th>\n",
       "      <th>Company Id</th>\n",
       "    </tr>\n",
       "  </thead>\n",
       "  <tbody>\n",
       "    <tr>\n",
       "      <th>0</th>\n",
       "      <td>William Taylor</td>\n",
       "      <td>ZTZA0ZLYZR85PTUJ</td>\n",
       "      <td>Melancholy Social-Role</td>\n",
       "      <td>D0AUXPP07H6AVSGD</td>\n",
       "    </tr>\n",
       "    <tr>\n",
       "      <th>1</th>\n",
       "      <td>William Taylor</td>\n",
       "      <td>ZTZA0ZLYZR85PTUJ</td>\n",
       "      <td>Pee-Wee Pigeon</td>\n",
       "      <td>TJW99R4RWH02INII</td>\n",
       "    </tr>\n",
       "    <tr>\n",
       "      <th>2</th>\n",
       "      <td>William Taylor</td>\n",
       "      <td>ZTZA0ZLYZR85PTUJ</td>\n",
       "      <td>Vaginal 36-Year-Old</td>\n",
       "      <td>3S20IO1O1DYXMUNU</td>\n",
       "    </tr>\n",
       "    <tr>\n",
       "      <th>3</th>\n",
       "      <td>William Taylor</td>\n",
       "      <td>ZTZA0ZLYZR85PTUJ</td>\n",
       "      <td>Unhurried Musician'S</td>\n",
       "      <td>FDWW0TQRPGMVI2A7</td>\n",
       "    </tr>\n",
       "    <tr>\n",
       "      <th>4</th>\n",
       "      <td>William Taylor</td>\n",
       "      <td>ZTZA0ZLYZR85PTUJ</td>\n",
       "      <td>Comprehensive Lists</td>\n",
       "      <td>C30FY83UNLVBA0O3</td>\n",
       "    </tr>\n",
       "    <tr>\n",
       "      <th>...</th>\n",
       "      <td>...</td>\n",
       "      <td>...</td>\n",
       "      <td>...</td>\n",
       "      <td>...</td>\n",
       "    </tr>\n",
       "    <tr>\n",
       "      <th>4614</th>\n",
       "      <td>Ida Woodward</td>\n",
       "      <td>LF3CPWWZKSNB1AXI</td>\n",
       "      <td>Unauthorized Increases</td>\n",
       "      <td>654ZMAXSV11BOMMI</td>\n",
       "    </tr>\n",
       "    <tr>\n",
       "      <th>4615</th>\n",
       "      <td>Ida Woodward</td>\n",
       "      <td>LF3CPWWZKSNB1AXI</td>\n",
       "      <td>Atom-Like Principle</td>\n",
       "      <td>42AO6UOXN0GXVHFQ</td>\n",
       "    </tr>\n",
       "    <tr>\n",
       "      <th>4616</th>\n",
       "      <td>Ida Woodward</td>\n",
       "      <td>LF3CPWWZKSNB1AXI</td>\n",
       "      <td>Congratulatory Economist</td>\n",
       "      <td>4B714VS0FWLGBSMU</td>\n",
       "    </tr>\n",
       "    <tr>\n",
       "      <th>4617</th>\n",
       "      <td>Ida Woodward</td>\n",
       "      <td>LF3CPWWZKSNB1AXI</td>\n",
       "      <td>Readable Pilots</td>\n",
       "      <td>G4D892KB5W0UCPR4</td>\n",
       "    </tr>\n",
       "    <tr>\n",
       "      <th>4618</th>\n",
       "      <td>Ida Woodward</td>\n",
       "      <td>LF3CPWWZKSNB1AXI</td>\n",
       "      <td>Trade-Preparatory Quarterbacks</td>\n",
       "      <td>APH243SK72T90MPS</td>\n",
       "    </tr>\n",
       "  </tbody>\n",
       "</table>\n",
       "<p>4619 rows × 4 columns</p>\n",
       "</div>"
      ],
      "text/plain": [
       "           Sales Rep      Sales Rep Id                    Company Name  \\\n",
       "0     William Taylor  ZTZA0ZLYZR85PTUJ          Melancholy Social-Role   \n",
       "1     William Taylor  ZTZA0ZLYZR85PTUJ                  Pee-Wee Pigeon   \n",
       "2     William Taylor  ZTZA0ZLYZR85PTUJ             Vaginal 36-Year-Old   \n",
       "3     William Taylor  ZTZA0ZLYZR85PTUJ            Unhurried Musician'S   \n",
       "4     William Taylor  ZTZA0ZLYZR85PTUJ             Comprehensive Lists   \n",
       "...              ...               ...                             ...   \n",
       "4614    Ida Woodward  LF3CPWWZKSNB1AXI          Unauthorized Increases   \n",
       "4615    Ida Woodward  LF3CPWWZKSNB1AXI             Atom-Like Principle   \n",
       "4616    Ida Woodward  LF3CPWWZKSNB1AXI        Congratulatory Economist   \n",
       "4617    Ida Woodward  LF3CPWWZKSNB1AXI                 Readable Pilots   \n",
       "4618    Ida Woodward  LF3CPWWZKSNB1AXI  Trade-Preparatory Quarterbacks   \n",
       "\n",
       "            Company Id  \n",
       "0     D0AUXPP07H6AVSGD  \n",
       "1     TJW99R4RWH02INII  \n",
       "2     3S20IO1O1DYXMUNU  \n",
       "3     FDWW0TQRPGMVI2A7  \n",
       "4     C30FY83UNLVBA0O3  \n",
       "...                ...  \n",
       "4614  654ZMAXSV11BOMMI  \n",
       "4615  42AO6UOXN0GXVHFQ  \n",
       "4616  4B714VS0FWLGBSMU  \n",
       "4617  G4D892KB5W0UCPR4  \n",
       "4618  APH243SK72T90MPS  \n",
       "\n",
       "[4619 rows x 4 columns]"
      ]
     },
     "execution_count": 5,
     "metadata": {},
     "output_type": "execute_result"
    }
   ],
   "source": [
    "sale_team = pd.read_csv(url2)\n",
    "sale_team"
   ]
  },
  {
   "cell_type": "code",
   "execution_count": 6,
   "id": "3d4de482",
   "metadata": {},
   "outputs": [
    {
     "data": {
      "text/plain": [
       "array(['Melancholy Social-Role', 'Pee-Wee Pigeon', 'Vaginal 36-Year-Old',\n",
       "       ..., 'Congratulatory Economist', 'Readable Pilots',\n",
       "       'Trade-Preparatory Quarterbacks'], dtype=object)"
      ]
     },
     "execution_count": 6,
     "metadata": {},
     "output_type": "execute_result"
    }
   ],
   "source": [
    "#  kon kon se name he company me .\n",
    "order_leads[\"Company Name\"].unique()"
   ]
  },
  {
   "cell_type": "code",
   "execution_count": 7,
   "id": "96012afe",
   "metadata": {},
   "outputs": [
    {
     "name": "stdout",
     "output_type": "stream",
     "text": [
      "<class 'pandas.core.frame.DataFrame'>\n",
      "RangeIndex: 100000 entries, 0 to 99999\n",
      "Data columns (total 6 columns):\n",
      " #   Column        Non-Null Count   Dtype         \n",
      "---  ------        --------------   -----         \n",
      " 0   Order Id      100000 non-null  object        \n",
      " 1   Company Id    100000 non-null  object        \n",
      " 2   Company Name  100000 non-null  object        \n",
      " 3   Date          100000 non-null  datetime64[ns]\n",
      " 4   Order Value   100000 non-null  int64         \n",
      " 5   Converted     100000 non-null  int64         \n",
      "dtypes: datetime64[ns](1), int64(2), object(3)\n",
      "memory usage: 4.6+ MB\n"
     ]
    }
   ],
   "source": [
    "# info ya batae gha kis ki typse kiya he .\n",
    "order_leads.info()\n",
    "#  object ka matlab string he .\n",
    "# info me humnne dekha ke date ki type srting nahi he jo ke masla bna sakta he\n",
    "#    hum esey (date) me convert karte . jahan humne data ka name deya tha\n",
    "#   order_leads = pd.read_csv(url1, parse_dates=[3])\n",
    "                          # [3] ka matlab he index 3 columns ka"
   ]
  },
  {
   "cell_type": "code",
   "execution_count": 8,
   "id": "aba5f38b",
   "metadata": {},
   "outputs": [
    {
     "data": {
      "text/plain": [
       "(100000, 6)"
      ]
     },
     "execution_count": 8,
     "metadata": {},
     "output_type": "execute_result"
    }
   ],
   "source": [
    "# order_lead ka shape  se hame pata chale gha ke data kitna bara he \n",
    "# isme [100000] ka matlab rows he [6] ka matlab columns .\n",
    "order_leads.shape"
   ]
  },
  {
   "cell_type": "code",
   "execution_count": 9,
   "id": "241580e9",
   "metadata": {},
   "outputs": [],
   "source": [
    "# pehle humne falto columns ko khatam ki uske (axix 1 me humne columns ka kaha he)\n",
    "#  warna bydefult who rows samajta he\n",
    "order_leads.drop(\"Company Id\", inplace=True, axis = 1)"
   ]
  },
  {
   "cell_type": "code",
   "execution_count": 10,
   "id": "a318e686",
   "metadata": {},
   "outputs": [
    {
     "data": {
      "text/plain": [
       "0"
      ]
     },
     "execution_count": 10,
     "metadata": {},
     "output_type": "execute_result"
    }
   ],
   "source": [
    "order_leads.duplicated().sum()"
   ]
  },
  {
   "cell_type": "code",
   "execution_count": null,
   "id": "e9aa5727",
   "metadata": {},
   "outputs": [],
   "source": [
    "# ya bhi date time me convert karne ke leya he\n",
    "order_leads[\"Date\"] = pd.to_datetime(order_leads[\"Date\"])"
   ]
  },
  {
   "cell_type": "code",
   "execution_count": 11,
   "id": "96949fdd",
   "metadata": {},
   "outputs": [
    {
     "data": {
      "text/plain": [
       "Order Id        0\n",
       "Company Name    0\n",
       "Date            0\n",
       "Order Value     0\n",
       "Converted       0\n",
       "dtype: int64"
      ]
     },
     "execution_count": 11,
     "metadata": {},
     "output_type": "execute_result"
    }
   ],
   "source": [
    "order_leads.isna().sum()"
   ]
  },
  {
   "cell_type": "code",
   "execution_count": 12,
   "id": "cd04f993",
   "metadata": {},
   "outputs": [
    {
     "data": {
      "text/html": [
       "<div>\n",
       "<style scoped>\n",
       "    .dataframe tbody tr th:only-of-type {\n",
       "        vertical-align: middle;\n",
       "    }\n",
       "\n",
       "    .dataframe tbody tr th {\n",
       "        vertical-align: top;\n",
       "    }\n",
       "\n",
       "    .dataframe thead th {\n",
       "        text-align: right;\n",
       "    }\n",
       "</style>\n",
       "<table border=\"1\" class=\"dataframe\">\n",
       "  <thead>\n",
       "    <tr style=\"text-align: right;\">\n",
       "      <th></th>\n",
       "      <th>Sales Rep</th>\n",
       "      <th>Sales Rep Id</th>\n",
       "      <th>Company Name</th>\n",
       "      <th>Company Id</th>\n",
       "    </tr>\n",
       "  </thead>\n",
       "  <tbody>\n",
       "    <tr>\n",
       "      <th>0</th>\n",
       "      <td>William Taylor</td>\n",
       "      <td>ZTZA0ZLYZR85PTUJ</td>\n",
       "      <td>Melancholy Social-Role</td>\n",
       "      <td>D0AUXPP07H6AVSGD</td>\n",
       "    </tr>\n",
       "    <tr>\n",
       "      <th>1</th>\n",
       "      <td>William Taylor</td>\n",
       "      <td>ZTZA0ZLYZR85PTUJ</td>\n",
       "      <td>Pee-Wee Pigeon</td>\n",
       "      <td>TJW99R4RWH02INII</td>\n",
       "    </tr>\n",
       "    <tr>\n",
       "      <th>2</th>\n",
       "      <td>William Taylor</td>\n",
       "      <td>ZTZA0ZLYZR85PTUJ</td>\n",
       "      <td>Vaginal 36-Year-Old</td>\n",
       "      <td>3S20IO1O1DYXMUNU</td>\n",
       "    </tr>\n",
       "    <tr>\n",
       "      <th>3</th>\n",
       "      <td>William Taylor</td>\n",
       "      <td>ZTZA0ZLYZR85PTUJ</td>\n",
       "      <td>Unhurried Musician'S</td>\n",
       "      <td>FDWW0TQRPGMVI2A7</td>\n",
       "    </tr>\n",
       "    <tr>\n",
       "      <th>4</th>\n",
       "      <td>William Taylor</td>\n",
       "      <td>ZTZA0ZLYZR85PTUJ</td>\n",
       "      <td>Comprehensive Lists</td>\n",
       "      <td>C30FY83UNLVBA0O3</td>\n",
       "    </tr>\n",
       "    <tr>\n",
       "      <th>5</th>\n",
       "      <td>William Taylor</td>\n",
       "      <td>ZTZA0ZLYZR85PTUJ</td>\n",
       "      <td>Off-Beat Anthea</td>\n",
       "      <td>6NHGP9YC7CTBARBG</td>\n",
       "    </tr>\n",
       "    <tr>\n",
       "      <th>6</th>\n",
       "      <td>William Taylor</td>\n",
       "      <td>ZTZA0ZLYZR85PTUJ</td>\n",
       "      <td>Pearl-Gray Midstream</td>\n",
       "      <td>JSG0N4TPIDMQOR4A</td>\n",
       "    </tr>\n",
       "    <tr>\n",
       "      <th>7</th>\n",
       "      <td>William Taylor</td>\n",
       "      <td>ZTZA0ZLYZR85PTUJ</td>\n",
       "      <td>Unaggressive Quality</td>\n",
       "      <td>AJ4EWVZKZGX0KBC9</td>\n",
       "    </tr>\n",
       "    <tr>\n",
       "      <th>8</th>\n",
       "      <td>William Taylor</td>\n",
       "      <td>ZTZA0ZLYZR85PTUJ</td>\n",
       "      <td>Astral Circumference</td>\n",
       "      <td>ZVKRKS0N8FAMWU8C</td>\n",
       "    </tr>\n",
       "    <tr>\n",
       "      <th>9</th>\n",
       "      <td>William Taylor</td>\n",
       "      <td>ZTZA0ZLYZR85PTUJ</td>\n",
       "      <td>Greasy Transitions</td>\n",
       "      <td>CLSTQXCAABBWSQ8K</td>\n",
       "    </tr>\n",
       "  </tbody>\n",
       "</table>\n",
       "</div>"
      ],
      "text/plain": [
       "        Sales Rep      Sales Rep Id            Company Name        Company Id\n",
       "0  William Taylor  ZTZA0ZLYZR85PTUJ  Melancholy Social-Role  D0AUXPP07H6AVSGD\n",
       "1  William Taylor  ZTZA0ZLYZR85PTUJ          Pee-Wee Pigeon  TJW99R4RWH02INII\n",
       "2  William Taylor  ZTZA0ZLYZR85PTUJ     Vaginal 36-Year-Old  3S20IO1O1DYXMUNU\n",
       "3  William Taylor  ZTZA0ZLYZR85PTUJ    Unhurried Musician'S  FDWW0TQRPGMVI2A7\n",
       "4  William Taylor  ZTZA0ZLYZR85PTUJ     Comprehensive Lists  C30FY83UNLVBA0O3\n",
       "5  William Taylor  ZTZA0ZLYZR85PTUJ         Off-Beat Anthea  6NHGP9YC7CTBARBG\n",
       "6  William Taylor  ZTZA0ZLYZR85PTUJ    Pearl-Gray Midstream  JSG0N4TPIDMQOR4A\n",
       "7  William Taylor  ZTZA0ZLYZR85PTUJ    Unaggressive Quality  AJ4EWVZKZGX0KBC9\n",
       "8  William Taylor  ZTZA0ZLYZR85PTUJ    Astral Circumference  ZVKRKS0N8FAMWU8C\n",
       "9  William Taylor  ZTZA0ZLYZR85PTUJ      Greasy Transitions  CLSTQXCAABBWSQ8K"
      ]
     },
     "execution_count": 12,
     "metadata": {},
     "output_type": "execute_result"
    }
   ],
   "source": [
    "sale_team.head(10)"
   ]
  },
  {
   "cell_type": "code",
   "execution_count": 13,
   "id": "c1bb65ea",
   "metadata": {},
   "outputs": [],
   "source": [
    "sale_team.drop(\"Company Id\", inplace= True , axis=1)"
   ]
  },
  {
   "cell_type": "code",
   "execution_count": 17,
   "id": "e9fc55cf",
   "metadata": {},
   "outputs": [
    {
     "data": {
      "text/plain": [
       "Index(['Sales Rep', 'Sales Rep Id', 'Company Name'], dtype='object')"
      ]
     },
     "execution_count": 17,
     "metadata": {},
     "output_type": "execute_result"
    }
   ],
   "source": [
    "sale_team.columns"
   ]
  },
  {
   "cell_type": "code",
   "execution_count": 18,
   "id": "b86c4a1a",
   "metadata": {},
   "outputs": [
    {
     "data": {
      "text/plain": [
       "array(['Melancholy Social-Role', 'Pee-Wee Pigeon', 'Vaginal 36-Year-Old',\n",
       "       ..., 'Congratulatory Economist', 'Readable Pilots',\n",
       "       'Trade-Preparatory Quarterbacks'], dtype=object)"
      ]
     },
     "execution_count": 18,
     "metadata": {},
     "output_type": "execute_result"
    }
   ],
   "source": [
    "sale_team[\"Company Name\"].unique()"
   ]
  },
  {
   "cell_type": "code",
   "execution_count": 19,
   "id": "dea25ff8",
   "metadata": {},
   "outputs": [
    {
     "data": {
      "text/plain": [
       "(4619, 3)"
      ]
     },
     "execution_count": 19,
     "metadata": {},
     "output_type": "execute_result"
    }
   ],
   "source": [
    "sale_team.shape"
   ]
  },
  {
   "cell_type": "code",
   "execution_count": 20,
   "id": "852f55f0",
   "metadata": {},
   "outputs": [
    {
     "data": {
      "text/plain": [
       "0"
      ]
     },
     "execution_count": 20,
     "metadata": {},
     "output_type": "execute_result"
    }
   ],
   "source": [
    "sale_team.duplicated().sum()"
   ]
  },
  {
   "cell_type": "code",
   "execution_count": 21,
   "id": "bd6a940f",
   "metadata": {},
   "outputs": [
    {
     "data": {
      "text/plain": [
       "Sales Rep       0\n",
       "Sales Rep Id    0\n",
       "Company Name    0\n",
       "dtype: int64"
      ]
     },
     "execution_count": 21,
     "metadata": {},
     "output_type": "execute_result"
    }
   ],
   "source": [
    "sale_team.isna().sum()"
   ]
  },
  {
   "cell_type": "markdown",
   "id": "ce46dd0e",
   "metadata": {},
   "source": [
    "## now mapping both data"
   ]
  },
  {
   "cell_type": "code",
   "execution_count": 22,
   "id": "2ccacff0",
   "metadata": {},
   "outputs": [
    {
     "data": {
      "text/html": [
       "<div>\n",
       "<style scoped>\n",
       "    .dataframe tbody tr th:only-of-type {\n",
       "        vertical-align: middle;\n",
       "    }\n",
       "\n",
       "    .dataframe tbody tr th {\n",
       "        vertical-align: top;\n",
       "    }\n",
       "\n",
       "    .dataframe thead th {\n",
       "        text-align: right;\n",
       "    }\n",
       "</style>\n",
       "<table border=\"1\" class=\"dataframe\">\n",
       "  <thead>\n",
       "    <tr style=\"text-align: right;\">\n",
       "      <th></th>\n",
       "      <th>Order Id</th>\n",
       "      <th>Company Name</th>\n",
       "      <th>Date</th>\n",
       "      <th>Order Value</th>\n",
       "      <th>Converted</th>\n",
       "    </tr>\n",
       "  </thead>\n",
       "  <tbody>\n",
       "    <tr>\n",
       "      <th>0</th>\n",
       "      <td>HZSXLI1IS9RGABZW</td>\n",
       "      <td>Melancholy Social-Role</td>\n",
       "      <td>2017-10-13</td>\n",
       "      <td>6952</td>\n",
       "      <td>0</td>\n",
       "    </tr>\n",
       "    <tr>\n",
       "      <th>1</th>\n",
       "      <td>582WPS3OW8T6YT0R</td>\n",
       "      <td>Melancholy Social-Role</td>\n",
       "      <td>2017-09-02</td>\n",
       "      <td>7930</td>\n",
       "      <td>0</td>\n",
       "    </tr>\n",
       "    <tr>\n",
       "      <th>2</th>\n",
       "      <td>KRF65MQZBOYG4Y9T</td>\n",
       "      <td>Melancholy Social-Role</td>\n",
       "      <td>2016-12-21</td>\n",
       "      <td>5538</td>\n",
       "      <td>1</td>\n",
       "    </tr>\n",
       "    <tr>\n",
       "      <th>3</th>\n",
       "      <td>N3EDZ5V1WGSWW828</td>\n",
       "      <td>Melancholy Social-Role</td>\n",
       "      <td>2018-06-03</td>\n",
       "      <td>1113</td>\n",
       "      <td>0</td>\n",
       "    </tr>\n",
       "    <tr>\n",
       "      <th>4</th>\n",
       "      <td>QXBC8COXEXGFSPLP</td>\n",
       "      <td>Melancholy Social-Role</td>\n",
       "      <td>2014-07-26</td>\n",
       "      <td>4596</td>\n",
       "      <td>0</td>\n",
       "    </tr>\n",
       "  </tbody>\n",
       "</table>\n",
       "</div>"
      ],
      "text/plain": [
       "           Order Id            Company Name       Date  Order Value  Converted\n",
       "0  HZSXLI1IS9RGABZW  Melancholy Social-Role 2017-10-13         6952          0\n",
       "1  582WPS3OW8T6YT0R  Melancholy Social-Role 2017-09-02         7930          0\n",
       "2  KRF65MQZBOYG4Y9T  Melancholy Social-Role 2016-12-21         5538          1\n",
       "3  N3EDZ5V1WGSWW828  Melancholy Social-Role 2018-06-03         1113          0\n",
       "4  QXBC8COXEXGFSPLP  Melancholy Social-Role 2014-07-26         4596          0"
      ]
     },
     "execution_count": 22,
     "metadata": {},
     "output_type": "execute_result"
    }
   ],
   "source": [
    "# frist data\n",
    "order_leads.head(5)"
   ]
  },
  {
   "cell_type": "code",
   "execution_count": 23,
   "id": "43c751b0",
   "metadata": {},
   "outputs": [
    {
     "data": {
      "text/html": [
       "<div>\n",
       "<style scoped>\n",
       "    .dataframe tbody tr th:only-of-type {\n",
       "        vertical-align: middle;\n",
       "    }\n",
       "\n",
       "    .dataframe tbody tr th {\n",
       "        vertical-align: top;\n",
       "    }\n",
       "\n",
       "    .dataframe thead th {\n",
       "        text-align: right;\n",
       "    }\n",
       "</style>\n",
       "<table border=\"1\" class=\"dataframe\">\n",
       "  <thead>\n",
       "    <tr style=\"text-align: right;\">\n",
       "      <th></th>\n",
       "      <th>Sales Rep</th>\n",
       "      <th>Sales Rep Id</th>\n",
       "      <th>Company Name</th>\n",
       "    </tr>\n",
       "  </thead>\n",
       "  <tbody>\n",
       "    <tr>\n",
       "      <th>0</th>\n",
       "      <td>William Taylor</td>\n",
       "      <td>ZTZA0ZLYZR85PTUJ</td>\n",
       "      <td>Melancholy Social-Role</td>\n",
       "    </tr>\n",
       "    <tr>\n",
       "      <th>1</th>\n",
       "      <td>William Taylor</td>\n",
       "      <td>ZTZA0ZLYZR85PTUJ</td>\n",
       "      <td>Pee-Wee Pigeon</td>\n",
       "    </tr>\n",
       "    <tr>\n",
       "      <th>2</th>\n",
       "      <td>William Taylor</td>\n",
       "      <td>ZTZA0ZLYZR85PTUJ</td>\n",
       "      <td>Vaginal 36-Year-Old</td>\n",
       "    </tr>\n",
       "    <tr>\n",
       "      <th>3</th>\n",
       "      <td>William Taylor</td>\n",
       "      <td>ZTZA0ZLYZR85PTUJ</td>\n",
       "      <td>Unhurried Musician'S</td>\n",
       "    </tr>\n",
       "    <tr>\n",
       "      <th>4</th>\n",
       "      <td>William Taylor</td>\n",
       "      <td>ZTZA0ZLYZR85PTUJ</td>\n",
       "      <td>Comprehensive Lists</td>\n",
       "    </tr>\n",
       "  </tbody>\n",
       "</table>\n",
       "</div>"
      ],
      "text/plain": [
       "        Sales Rep      Sales Rep Id            Company Name\n",
       "0  William Taylor  ZTZA0ZLYZR85PTUJ  Melancholy Social-Role\n",
       "1  William Taylor  ZTZA0ZLYZR85PTUJ          Pee-Wee Pigeon\n",
       "2  William Taylor  ZTZA0ZLYZR85PTUJ     Vaginal 36-Year-Old\n",
       "3  William Taylor  ZTZA0ZLYZR85PTUJ    Unhurried Musician'S\n",
       "4  William Taylor  ZTZA0ZLYZR85PTUJ     Comprehensive Lists"
      ]
     },
     "execution_count": 23,
     "metadata": {},
     "output_type": "execute_result"
    }
   ],
   "source": [
    "# second data\n",
    "sale_team.head(5)"
   ]
  },
  {
   "cell_type": "code",
   "execution_count": 24,
   "id": "fb3773b3",
   "metadata": {},
   "outputs": [
    {
     "data": {
      "text/html": [
       "<div>\n",
       "<style scoped>\n",
       "    .dataframe tbody tr th:only-of-type {\n",
       "        vertical-align: middle;\n",
       "    }\n",
       "\n",
       "    .dataframe tbody tr th {\n",
       "        vertical-align: top;\n",
       "    }\n",
       "\n",
       "    .dataframe thead th {\n",
       "        text-align: right;\n",
       "    }\n",
       "</style>\n",
       "<table border=\"1\" class=\"dataframe\">\n",
       "  <thead>\n",
       "    <tr style=\"text-align: right;\">\n",
       "      <th></th>\n",
       "      <th>Order Id</th>\n",
       "      <th>Company Name</th>\n",
       "      <th>Date</th>\n",
       "      <th>Order Value</th>\n",
       "      <th>Converted</th>\n",
       "      <th>Sales Rep</th>\n",
       "      <th>Sales Rep Id</th>\n",
       "    </tr>\n",
       "  </thead>\n",
       "  <tbody>\n",
       "    <tr>\n",
       "      <th>0</th>\n",
       "      <td>HZSXLI1IS9RGABZW</td>\n",
       "      <td>Melancholy Social-Role</td>\n",
       "      <td>2017-10-13</td>\n",
       "      <td>6952</td>\n",
       "      <td>0</td>\n",
       "      <td>William Taylor</td>\n",
       "      <td>ZTZA0ZLYZR85PTUJ</td>\n",
       "    </tr>\n",
       "    <tr>\n",
       "      <th>1</th>\n",
       "      <td>582WPS3OW8T6YT0R</td>\n",
       "      <td>Melancholy Social-Role</td>\n",
       "      <td>2017-09-02</td>\n",
       "      <td>7930</td>\n",
       "      <td>0</td>\n",
       "      <td>William Taylor</td>\n",
       "      <td>ZTZA0ZLYZR85PTUJ</td>\n",
       "    </tr>\n",
       "    <tr>\n",
       "      <th>2</th>\n",
       "      <td>KRF65MQZBOYG4Y9T</td>\n",
       "      <td>Melancholy Social-Role</td>\n",
       "      <td>2016-12-21</td>\n",
       "      <td>5538</td>\n",
       "      <td>1</td>\n",
       "      <td>William Taylor</td>\n",
       "      <td>ZTZA0ZLYZR85PTUJ</td>\n",
       "    </tr>\n",
       "    <tr>\n",
       "      <th>3</th>\n",
       "      <td>N3EDZ5V1WGSWW828</td>\n",
       "      <td>Melancholy Social-Role</td>\n",
       "      <td>2018-06-03</td>\n",
       "      <td>1113</td>\n",
       "      <td>0</td>\n",
       "      <td>William Taylor</td>\n",
       "      <td>ZTZA0ZLYZR85PTUJ</td>\n",
       "    </tr>\n",
       "    <tr>\n",
       "      <th>4</th>\n",
       "      <td>QXBC8COXEXGFSPLP</td>\n",
       "      <td>Melancholy Social-Role</td>\n",
       "      <td>2014-07-26</td>\n",
       "      <td>4596</td>\n",
       "      <td>0</td>\n",
       "      <td>William Taylor</td>\n",
       "      <td>ZTZA0ZLYZR85PTUJ</td>\n",
       "    </tr>\n",
       "  </tbody>\n",
       "</table>\n",
       "</div>"
      ],
      "text/plain": [
       "           Order Id            Company Name       Date  Order Value  \\\n",
       "0  HZSXLI1IS9RGABZW  Melancholy Social-Role 2017-10-13         6952   \n",
       "1  582WPS3OW8T6YT0R  Melancholy Social-Role 2017-09-02         7930   \n",
       "2  KRF65MQZBOYG4Y9T  Melancholy Social-Role 2016-12-21         5538   \n",
       "3  N3EDZ5V1WGSWW828  Melancholy Social-Role 2018-06-03         1113   \n",
       "4  QXBC8COXEXGFSPLP  Melancholy Social-Role 2014-07-26         4596   \n",
       "\n",
       "   Converted       Sales Rep      Sales Rep Id  \n",
       "0          0  William Taylor  ZTZA0ZLYZR85PTUJ  \n",
       "1          0  William Taylor  ZTZA0ZLYZR85PTUJ  \n",
       "2          1  William Taylor  ZTZA0ZLYZR85PTUJ  \n",
       "3          0  William Taylor  ZTZA0ZLYZR85PTUJ  \n",
       "4          0  William Taylor  ZTZA0ZLYZR85PTUJ  "
      ]
     },
     "execution_count": 24,
     "metadata": {},
     "output_type": "execute_result"
    }
   ],
   "source": [
    "# on ka matlab kispe merge karna he\n",
    "data = order_leads.merge(sale_team , on = [\"Company Name\"] )\n",
    "data.head(5)"
   ]
  },
  {
   "cell_type": "code",
   "execution_count": 25,
   "id": "4d1c69b2",
   "metadata": {},
   "outputs": [
    {
     "data": {
      "text/html": [
       "<div>\n",
       "<style scoped>\n",
       "    .dataframe tbody tr th:only-of-type {\n",
       "        vertical-align: middle;\n",
       "    }\n",
       "\n",
       "    .dataframe tbody tr th {\n",
       "        vertical-align: top;\n",
       "    }\n",
       "\n",
       "    .dataframe thead th {\n",
       "        text-align: right;\n",
       "    }\n",
       "</style>\n",
       "<table border=\"1\" class=\"dataframe\">\n",
       "  <thead>\n",
       "    <tr style=\"text-align: right;\">\n",
       "      <th></th>\n",
       "      <th>Company Name</th>\n",
       "      <th>Order Id</th>\n",
       "      <th>Order Value</th>\n",
       "      <th>Date</th>\n",
       "      <th>Sales Rep</th>\n",
       "      <th>Sales Rep Id</th>\n",
       "      <th>Converted</th>\n",
       "    </tr>\n",
       "  </thead>\n",
       "  <tbody>\n",
       "    <tr>\n",
       "      <th>0</th>\n",
       "      <td>Melancholy Social-Role</td>\n",
       "      <td>HZSXLI1IS9RGABZW</td>\n",
       "      <td>6952</td>\n",
       "      <td>2017-10-13</td>\n",
       "      <td>William Taylor</td>\n",
       "      <td>ZTZA0ZLYZR85PTUJ</td>\n",
       "      <td>0</td>\n",
       "    </tr>\n",
       "    <tr>\n",
       "      <th>1</th>\n",
       "      <td>Melancholy Social-Role</td>\n",
       "      <td>582WPS3OW8T6YT0R</td>\n",
       "      <td>7930</td>\n",
       "      <td>2017-09-02</td>\n",
       "      <td>William Taylor</td>\n",
       "      <td>ZTZA0ZLYZR85PTUJ</td>\n",
       "      <td>0</td>\n",
       "    </tr>\n",
       "    <tr>\n",
       "      <th>2</th>\n",
       "      <td>Melancholy Social-Role</td>\n",
       "      <td>KRF65MQZBOYG4Y9T</td>\n",
       "      <td>5538</td>\n",
       "      <td>2016-12-21</td>\n",
       "      <td>William Taylor</td>\n",
       "      <td>ZTZA0ZLYZR85PTUJ</td>\n",
       "      <td>1</td>\n",
       "    </tr>\n",
       "    <tr>\n",
       "      <th>3</th>\n",
       "      <td>Melancholy Social-Role</td>\n",
       "      <td>N3EDZ5V1WGSWW828</td>\n",
       "      <td>1113</td>\n",
       "      <td>2018-06-03</td>\n",
       "      <td>William Taylor</td>\n",
       "      <td>ZTZA0ZLYZR85PTUJ</td>\n",
       "      <td>0</td>\n",
       "    </tr>\n",
       "    <tr>\n",
       "      <th>4</th>\n",
       "      <td>Melancholy Social-Role</td>\n",
       "      <td>QXBC8COXEXGFSPLP</td>\n",
       "      <td>4596</td>\n",
       "      <td>2014-07-26</td>\n",
       "      <td>William Taylor</td>\n",
       "      <td>ZTZA0ZLYZR85PTUJ</td>\n",
       "      <td>0</td>\n",
       "    </tr>\n",
       "  </tbody>\n",
       "</table>\n",
       "</div>"
      ],
      "text/plain": [
       "             Company Name          Order Id  Order Value       Date  \\\n",
       "0  Melancholy Social-Role  HZSXLI1IS9RGABZW         6952 2017-10-13   \n",
       "1  Melancholy Social-Role  582WPS3OW8T6YT0R         7930 2017-09-02   \n",
       "2  Melancholy Social-Role  KRF65MQZBOYG4Y9T         5538 2016-12-21   \n",
       "3  Melancholy Social-Role  N3EDZ5V1WGSWW828         1113 2018-06-03   \n",
       "4  Melancholy Social-Role  QXBC8COXEXGFSPLP         4596 2014-07-26   \n",
       "\n",
       "        Sales Rep      Sales Rep Id  Converted  \n",
       "0  William Taylor  ZTZA0ZLYZR85PTUJ          0  \n",
       "1  William Taylor  ZTZA0ZLYZR85PTUJ          0  \n",
       "2  William Taylor  ZTZA0ZLYZR85PTUJ          1  \n",
       "3  William Taylor  ZTZA0ZLYZR85PTUJ          0  \n",
       "4  William Taylor  ZTZA0ZLYZR85PTUJ          0  "
      ]
     },
     "execution_count": 25,
     "metadata": {},
     "output_type": "execute_result"
    }
   ],
   "source": [
    "# new columns banane ke leya .\n",
    "data = data[[\"Company Name\",\"Order Id\",\"Order Value\",\"Date\",\"Sales Rep\",\"Sales Rep Id\",\"Converted\"]]\n",
    "data.head(5)"
   ]
  },
  {
   "cell_type": "code",
   "execution_count": 26,
   "id": "4bb52fb1",
   "metadata": {},
   "outputs": [
    {
     "data": {
      "text/plain": [
       "(100000, 7)"
      ]
     },
     "execution_count": 26,
     "metadata": {},
     "output_type": "execute_result"
    }
   ],
   "source": [
    "data.shape"
   ]
  },
  {
   "cell_type": "code",
   "execution_count": 27,
   "id": "2b10320f",
   "metadata": {},
   "outputs": [
    {
     "data": {
      "text/plain": [
       "<pandas.core.groupby.generic.DataFrameGroupBy object at 0x000001F0CB5D9750>"
      ]
     },
     "execution_count": 27,
     "metadata": {},
     "output_type": "execute_result"
    }
   ],
   "source": [
    "data.groupby(\"Company Name\")"
   ]
  },
  {
   "cell_type": "code",
   "execution_count": 28,
   "id": "92e8d055",
   "metadata": {},
   "outputs": [
    {
     "data": {
      "text/plain": [
       "array(['Melancholy Social-Role', 'Pee-Wee Pigeon', 'Vaginal 36-Year-Old',\n",
       "       ..., 'Congratulatory Economist', 'Readable Pilots',\n",
       "       'Trade-Preparatory Quarterbacks'], dtype=object)"
      ]
     },
     "execution_count": 28,
     "metadata": {},
     "output_type": "execute_result"
    }
   ],
   "source": [
    "data[\"Company Name\"].unique()"
   ]
  },
  {
   "cell_type": "markdown",
   "id": "ed5973ab",
   "metadata": {},
   "source": [
    "###  Task = kis company ne kitna sale ki or height's sales kis ki he"
   ]
  },
  {
   "cell_type": "code",
   "execution_count": 29,
   "id": "1c4eaf8a",
   "metadata": {},
   "outputs": [],
   "source": [
    "company_group = data.groupby(\"Company Name\")"
   ]
  },
  {
   "cell_type": "code",
   "execution_count": 30,
   "id": "641e8503",
   "metadata": {},
   "outputs": [
    {
     "data": {
      "text/plain": [
       "Company Name\n",
       "'Nough Demolition          8\n",
       "1/50Th Stipulation         2\n",
       "10-Hour Bestseller         6\n",
       "10-Team Formats            1\n",
       "10-Year Presentation       4\n",
       "                          ..\n",
       "York-Mind Bod/Day/1,000    0\n",
       "York-Mind Titan            5\n",
       "Youngest Fund              3\n",
       "Zaporogian Shapes          5\n",
       "Zodiacal Indigation        3\n",
       "Name: Converted, Length: 4619, dtype: int64"
      ]
     },
     "execution_count": 30,
     "metadata": {},
     "output_type": "execute_result"
    }
   ],
   "source": [
    "# (1) kis company ne kitna sale ki \n",
    "data.groupby(\"Company Name\")[\"Converted\"].sum()"
   ]
  },
  {
   "cell_type": "code",
   "execution_count": 31,
   "id": "c64d19fc",
   "metadata": {},
   "outputs": [
    {
     "data": {
      "text/plain": [
       "16"
      ]
     },
     "execution_count": 31,
     "metadata": {},
     "output_type": "execute_result"
    }
   ],
   "source": [
    "# (2)  heights kon he sel me\n",
    "data.groupby(\"Company Name\")[\"Converted\"].sum().max()"
   ]
  },
  {
   "cell_type": "code",
   "execution_count": 32,
   "id": "fd5d604f",
   "metadata": {},
   "outputs": [
    {
     "data": {
      "text/plain": [
       "Company Name\n",
       "Canny Pompousness                     16\n",
       "Particularistic-Seeming Frog-Haiku    14\n",
       "Eighty-Fifth Aviv                     13\n",
       "Minor Targets                         11\n",
       "Sickly Phosphate                      11\n",
       "                                      ..\n",
       "Unnourished Not-Ace                    0\n",
       "Disobedient Loosli                     0\n",
       "Inclusive Council'S                    0\n",
       "Anthropological Chandler'S             0\n",
       "Undreamt Crucifixion                   0\n",
       "Name: Converted, Length: 4619, dtype: int64"
      ]
     },
     "execution_count": 32,
     "metadata": {},
     "output_type": "execute_result"
    }
   ],
   "source": [
    "# sub se zeyada sels kiska he \n",
    "#  ascendind ka matlab bara or desicending ka matlab chota\n",
    "data.groupby(\"Company Name\")[\"Converted\"].sum().sort_values(ascending=False)\n",
    "# aghar sub se kam ka nikalna hu to ( ( False ) ki jgha( True ) kardo)"
   ]
  },
  {
   "cell_type": "code",
   "execution_count": 33,
   "id": "b747e3d5",
   "metadata": {},
   "outputs": [
    {
     "data": {
      "text/plain": [
       "'Canny Pompousness'"
      ]
     },
     "execution_count": 33,
     "metadata": {},
     "output_type": "execute_result"
    }
   ],
   "source": [
    "# aghar muja index number janna ho zeyada ya kam ka\n",
    "data.groupby(\"Company Name\")[\"Converted\"].sum().sort_values(ascending=False).index[0]"
   ]
  },
  {
   "cell_type": "raw",
   "id": "ed271f99",
   "metadata": {},
   "source": [
    "'Nough Demolition ( is company ka recode )"
   ]
  },
  {
   "cell_type": "code",
   "execution_count": 34,
   "id": "7af538e8",
   "metadata": {},
   "outputs": [
    {
     "data": {
      "text/html": [
       "<div>\n",
       "<style scoped>\n",
       "    .dataframe tbody tr th:only-of-type {\n",
       "        vertical-align: middle;\n",
       "    }\n",
       "\n",
       "    .dataframe tbody tr th {\n",
       "        vertical-align: top;\n",
       "    }\n",
       "\n",
       "    .dataframe thead th {\n",
       "        text-align: right;\n",
       "    }\n",
       "</style>\n",
       "<table border=\"1\" class=\"dataframe\">\n",
       "  <thead>\n",
       "    <tr style=\"text-align: right;\">\n",
       "      <th></th>\n",
       "      <th>Company Name</th>\n",
       "      <th>Order Id</th>\n",
       "      <th>Order Value</th>\n",
       "      <th>Date</th>\n",
       "      <th>Sales Rep</th>\n",
       "      <th>Sales Rep Id</th>\n",
       "      <th>Converted</th>\n",
       "    </tr>\n",
       "  </thead>\n",
       "  <tbody>\n",
       "    <tr>\n",
       "      <th>17923</th>\n",
       "      <td>'Nough Demolition</td>\n",
       "      <td>2HP1PFFSHNM9LAMP</td>\n",
       "      <td>3204</td>\n",
       "      <td>2016-03-06</td>\n",
       "      <td>Clarissa Harvey</td>\n",
       "      <td>XPBDN8KC3CIFPNPP</td>\n",
       "      <td>0</td>\n",
       "    </tr>\n",
       "    <tr>\n",
       "      <th>17924</th>\n",
       "      <td>'Nough Demolition</td>\n",
       "      <td>KVV381A5VNMT6AHY</td>\n",
       "      <td>5950</td>\n",
       "      <td>2018-10-01</td>\n",
       "      <td>Clarissa Harvey</td>\n",
       "      <td>XPBDN8KC3CIFPNPP</td>\n",
       "      <td>0</td>\n",
       "    </tr>\n",
       "    <tr>\n",
       "      <th>17925</th>\n",
       "      <td>'Nough Demolition</td>\n",
       "      <td>2IDW4N4J9RY19N6G</td>\n",
       "      <td>3659</td>\n",
       "      <td>2017-06-19</td>\n",
       "      <td>Clarissa Harvey</td>\n",
       "      <td>XPBDN8KC3CIFPNPP</td>\n",
       "      <td>0</td>\n",
       "    </tr>\n",
       "    <tr>\n",
       "      <th>17926</th>\n",
       "      <td>'Nough Demolition</td>\n",
       "      <td>DU817NJ44X9K4XHY</td>\n",
       "      <td>7279</td>\n",
       "      <td>2016-01-06</td>\n",
       "      <td>Clarissa Harvey</td>\n",
       "      <td>XPBDN8KC3CIFPNPP</td>\n",
       "      <td>1</td>\n",
       "    </tr>\n",
       "    <tr>\n",
       "      <th>17927</th>\n",
       "      <td>'Nough Demolition</td>\n",
       "      <td>1QATDSTN8DD5IUU1</td>\n",
       "      <td>5248</td>\n",
       "      <td>2015-07-12</td>\n",
       "      <td>Clarissa Harvey</td>\n",
       "      <td>XPBDN8KC3CIFPNPP</td>\n",
       "      <td>0</td>\n",
       "    </tr>\n",
       "    <tr>\n",
       "      <th>17928</th>\n",
       "      <td>'Nough Demolition</td>\n",
       "      <td>L5NQ1KS62PRG5Q9X</td>\n",
       "      <td>3505</td>\n",
       "      <td>2014-10-16</td>\n",
       "      <td>Clarissa Harvey</td>\n",
       "      <td>XPBDN8KC3CIFPNPP</td>\n",
       "      <td>0</td>\n",
       "    </tr>\n",
       "    <tr>\n",
       "      <th>17929</th>\n",
       "      <td>'Nough Demolition</td>\n",
       "      <td>A5EDKTOV58UY61A1</td>\n",
       "      <td>3930</td>\n",
       "      <td>2017-02-12</td>\n",
       "      <td>Clarissa Harvey</td>\n",
       "      <td>XPBDN8KC3CIFPNPP</td>\n",
       "      <td>0</td>\n",
       "    </tr>\n",
       "    <tr>\n",
       "      <th>17930</th>\n",
       "      <td>'Nough Demolition</td>\n",
       "      <td>NO1JIQ9ACEDL1TGN</td>\n",
       "      <td>4677</td>\n",
       "      <td>2016-09-27</td>\n",
       "      <td>Clarissa Harvey</td>\n",
       "      <td>XPBDN8KC3CIFPNPP</td>\n",
       "      <td>1</td>\n",
       "    </tr>\n",
       "    <tr>\n",
       "      <th>17931</th>\n",
       "      <td>'Nough Demolition</td>\n",
       "      <td>84ULDC9Y20LITKHY</td>\n",
       "      <td>5327</td>\n",
       "      <td>2015-10-02</td>\n",
       "      <td>Clarissa Harvey</td>\n",
       "      <td>XPBDN8KC3CIFPNPP</td>\n",
       "      <td>1</td>\n",
       "    </tr>\n",
       "    <tr>\n",
       "      <th>17932</th>\n",
       "      <td>'Nough Demolition</td>\n",
       "      <td>6J7GZIQQ01KVH1HC</td>\n",
       "      <td>213</td>\n",
       "      <td>2018-05-11</td>\n",
       "      <td>Clarissa Harvey</td>\n",
       "      <td>XPBDN8KC3CIFPNPP</td>\n",
       "      <td>1</td>\n",
       "    </tr>\n",
       "    <tr>\n",
       "      <th>17933</th>\n",
       "      <td>'Nough Demolition</td>\n",
       "      <td>L6WZDPI4FSNKLO5W</td>\n",
       "      <td>7710</td>\n",
       "      <td>2014-04-30</td>\n",
       "      <td>Clarissa Harvey</td>\n",
       "      <td>XPBDN8KC3CIFPNPP</td>\n",
       "      <td>0</td>\n",
       "    </tr>\n",
       "    <tr>\n",
       "      <th>17934</th>\n",
       "      <td>'Nough Demolition</td>\n",
       "      <td>AVJTOVXO8GSJ7EHI</td>\n",
       "      <td>6121</td>\n",
       "      <td>2018-11-15</td>\n",
       "      <td>Clarissa Harvey</td>\n",
       "      <td>XPBDN8KC3CIFPNPP</td>\n",
       "      <td>0</td>\n",
       "    </tr>\n",
       "    <tr>\n",
       "      <th>17935</th>\n",
       "      <td>'Nough Demolition</td>\n",
       "      <td>DWZKEY3QZF4VNEFL</td>\n",
       "      <td>1897</td>\n",
       "      <td>2017-04-06</td>\n",
       "      <td>Clarissa Harvey</td>\n",
       "      <td>XPBDN8KC3CIFPNPP</td>\n",
       "      <td>0</td>\n",
       "    </tr>\n",
       "    <tr>\n",
       "      <th>17936</th>\n",
       "      <td>'Nough Demolition</td>\n",
       "      <td>K16HYXSA7T2DA8OP</td>\n",
       "      <td>1924</td>\n",
       "      <td>2016-03-22</td>\n",
       "      <td>Clarissa Harvey</td>\n",
       "      <td>XPBDN8KC3CIFPNPP</td>\n",
       "      <td>0</td>\n",
       "    </tr>\n",
       "    <tr>\n",
       "      <th>17937</th>\n",
       "      <td>'Nough Demolition</td>\n",
       "      <td>MQBTNMLUYIECFJHO</td>\n",
       "      <td>7896</td>\n",
       "      <td>2017-03-14</td>\n",
       "      <td>Clarissa Harvey</td>\n",
       "      <td>XPBDN8KC3CIFPNPP</td>\n",
       "      <td>0</td>\n",
       "    </tr>\n",
       "    <tr>\n",
       "      <th>17938</th>\n",
       "      <td>'Nough Demolition</td>\n",
       "      <td>9DZU3JFZFBZ084NK</td>\n",
       "      <td>8315</td>\n",
       "      <td>2014-08-09</td>\n",
       "      <td>Clarissa Harvey</td>\n",
       "      <td>XPBDN8KC3CIFPNPP</td>\n",
       "      <td>0</td>\n",
       "    </tr>\n",
       "    <tr>\n",
       "      <th>17939</th>\n",
       "      <td>'Nough Demolition</td>\n",
       "      <td>EIXDK1NO1HQTYBT7</td>\n",
       "      <td>5902</td>\n",
       "      <td>2015-03-19</td>\n",
       "      <td>Clarissa Harvey</td>\n",
       "      <td>XPBDN8KC3CIFPNPP</td>\n",
       "      <td>1</td>\n",
       "    </tr>\n",
       "    <tr>\n",
       "      <th>17940</th>\n",
       "      <td>'Nough Demolition</td>\n",
       "      <td>9R0SHG4LI32J497Q</td>\n",
       "      <td>3624</td>\n",
       "      <td>2016-04-21</td>\n",
       "      <td>Clarissa Harvey</td>\n",
       "      <td>XPBDN8KC3CIFPNPP</td>\n",
       "      <td>0</td>\n",
       "    </tr>\n",
       "    <tr>\n",
       "      <th>17941</th>\n",
       "      <td>'Nough Demolition</td>\n",
       "      <td>T2URY83AVLI4UKJL</td>\n",
       "      <td>8838</td>\n",
       "      <td>2015-08-08</td>\n",
       "      <td>Clarissa Harvey</td>\n",
       "      <td>XPBDN8KC3CIFPNPP</td>\n",
       "      <td>1</td>\n",
       "    </tr>\n",
       "    <tr>\n",
       "      <th>17942</th>\n",
       "      <td>'Nough Demolition</td>\n",
       "      <td>TMGBWI63ZA9QQORZ</td>\n",
       "      <td>1040</td>\n",
       "      <td>2014-02-26</td>\n",
       "      <td>Clarissa Harvey</td>\n",
       "      <td>XPBDN8KC3CIFPNPP</td>\n",
       "      <td>0</td>\n",
       "    </tr>\n",
       "    <tr>\n",
       "      <th>17943</th>\n",
       "      <td>'Nough Demolition</td>\n",
       "      <td>EQR1RUATS1Q0T540</td>\n",
       "      <td>6725</td>\n",
       "      <td>2018-01-30</td>\n",
       "      <td>Clarissa Harvey</td>\n",
       "      <td>XPBDN8KC3CIFPNPP</td>\n",
       "      <td>0</td>\n",
       "    </tr>\n",
       "    <tr>\n",
       "      <th>17944</th>\n",
       "      <td>'Nough Demolition</td>\n",
       "      <td>WZZG5PACT17SZVCY</td>\n",
       "      <td>7119</td>\n",
       "      <td>2017-04-04</td>\n",
       "      <td>Clarissa Harvey</td>\n",
       "      <td>XPBDN8KC3CIFPNPP</td>\n",
       "      <td>0</td>\n",
       "    </tr>\n",
       "    <tr>\n",
       "      <th>17945</th>\n",
       "      <td>'Nough Demolition</td>\n",
       "      <td>GR37T8AT8TWIAQ2J</td>\n",
       "      <td>5544</td>\n",
       "      <td>2018-03-10</td>\n",
       "      <td>Clarissa Harvey</td>\n",
       "      <td>XPBDN8KC3CIFPNPP</td>\n",
       "      <td>0</td>\n",
       "    </tr>\n",
       "    <tr>\n",
       "      <th>17946</th>\n",
       "      <td>'Nough Demolition</td>\n",
       "      <td>GSJYRP4LYYUQ70ZJ</td>\n",
       "      <td>4584</td>\n",
       "      <td>2014-12-21</td>\n",
       "      <td>Clarissa Harvey</td>\n",
       "      <td>XPBDN8KC3CIFPNPP</td>\n",
       "      <td>0</td>\n",
       "    </tr>\n",
       "    <tr>\n",
       "      <th>17947</th>\n",
       "      <td>'Nough Demolition</td>\n",
       "      <td>IHPD932F3JWGAIKP</td>\n",
       "      <td>5014</td>\n",
       "      <td>2016-11-11</td>\n",
       "      <td>Clarissa Harvey</td>\n",
       "      <td>XPBDN8KC3CIFPNPP</td>\n",
       "      <td>1</td>\n",
       "    </tr>\n",
       "    <tr>\n",
       "      <th>17948</th>\n",
       "      <td>'Nough Demolition</td>\n",
       "      <td>LJ4QDCZOM8MQGNQM</td>\n",
       "      <td>8200</td>\n",
       "      <td>2018-05-12</td>\n",
       "      <td>Clarissa Harvey</td>\n",
       "      <td>XPBDN8KC3CIFPNPP</td>\n",
       "      <td>0</td>\n",
       "    </tr>\n",
       "    <tr>\n",
       "      <th>17949</th>\n",
       "      <td>'Nough Demolition</td>\n",
       "      <td>CQ0FADIRVIXDCY8K</td>\n",
       "      <td>8626</td>\n",
       "      <td>2017-04-29</td>\n",
       "      <td>Clarissa Harvey</td>\n",
       "      <td>XPBDN8KC3CIFPNPP</td>\n",
       "      <td>0</td>\n",
       "    </tr>\n",
       "    <tr>\n",
       "      <th>17950</th>\n",
       "      <td>'Nough Demolition</td>\n",
       "      <td>O63D92H6VA15CI0N</td>\n",
       "      <td>8806</td>\n",
       "      <td>2016-06-28</td>\n",
       "      <td>Clarissa Harvey</td>\n",
       "      <td>XPBDN8KC3CIFPNPP</td>\n",
       "      <td>1</td>\n",
       "    </tr>\n",
       "    <tr>\n",
       "      <th>17951</th>\n",
       "      <td>'Nough Demolition</td>\n",
       "      <td>M6P4AIC1VGFV0FJD</td>\n",
       "      <td>7322</td>\n",
       "      <td>2015-02-10</td>\n",
       "      <td>Clarissa Harvey</td>\n",
       "      <td>XPBDN8KC3CIFPNPP</td>\n",
       "      <td>0</td>\n",
       "    </tr>\n",
       "    <tr>\n",
       "      <th>17952</th>\n",
       "      <td>'Nough Demolition</td>\n",
       "      <td>ASOSWRDTXC94FEPM</td>\n",
       "      <td>3999</td>\n",
       "      <td>2017-01-31</td>\n",
       "      <td>Clarissa Harvey</td>\n",
       "      <td>XPBDN8KC3CIFPNPP</td>\n",
       "      <td>0</td>\n",
       "    </tr>\n",
       "    <tr>\n",
       "      <th>17953</th>\n",
       "      <td>'Nough Demolition</td>\n",
       "      <td>366SQOTCS4Y5AWA5</td>\n",
       "      <td>8408</td>\n",
       "      <td>2017-04-11</td>\n",
       "      <td>Clarissa Harvey</td>\n",
       "      <td>XPBDN8KC3CIFPNPP</td>\n",
       "      <td>0</td>\n",
       "    </tr>\n",
       "  </tbody>\n",
       "</table>\n",
       "</div>"
      ],
      "text/plain": [
       "            Company Name          Order Id  Order Value       Date  \\\n",
       "17923  'Nough Demolition  2HP1PFFSHNM9LAMP         3204 2016-03-06   \n",
       "17924  'Nough Demolition  KVV381A5VNMT6AHY         5950 2018-10-01   \n",
       "17925  'Nough Demolition  2IDW4N4J9RY19N6G         3659 2017-06-19   \n",
       "17926  'Nough Demolition  DU817NJ44X9K4XHY         7279 2016-01-06   \n",
       "17927  'Nough Demolition  1QATDSTN8DD5IUU1         5248 2015-07-12   \n",
       "17928  'Nough Demolition  L5NQ1KS62PRG5Q9X         3505 2014-10-16   \n",
       "17929  'Nough Demolition  A5EDKTOV58UY61A1         3930 2017-02-12   \n",
       "17930  'Nough Demolition  NO1JIQ9ACEDL1TGN         4677 2016-09-27   \n",
       "17931  'Nough Demolition  84ULDC9Y20LITKHY         5327 2015-10-02   \n",
       "17932  'Nough Demolition  6J7GZIQQ01KVH1HC          213 2018-05-11   \n",
       "17933  'Nough Demolition  L6WZDPI4FSNKLO5W         7710 2014-04-30   \n",
       "17934  'Nough Demolition  AVJTOVXO8GSJ7EHI         6121 2018-11-15   \n",
       "17935  'Nough Demolition  DWZKEY3QZF4VNEFL         1897 2017-04-06   \n",
       "17936  'Nough Demolition  K16HYXSA7T2DA8OP         1924 2016-03-22   \n",
       "17937  'Nough Demolition  MQBTNMLUYIECFJHO         7896 2017-03-14   \n",
       "17938  'Nough Demolition  9DZU3JFZFBZ084NK         8315 2014-08-09   \n",
       "17939  'Nough Demolition  EIXDK1NO1HQTYBT7         5902 2015-03-19   \n",
       "17940  'Nough Demolition  9R0SHG4LI32J497Q         3624 2016-04-21   \n",
       "17941  'Nough Demolition  T2URY83AVLI4UKJL         8838 2015-08-08   \n",
       "17942  'Nough Demolition  TMGBWI63ZA9QQORZ         1040 2014-02-26   \n",
       "17943  'Nough Demolition  EQR1RUATS1Q0T540         6725 2018-01-30   \n",
       "17944  'Nough Demolition  WZZG5PACT17SZVCY         7119 2017-04-04   \n",
       "17945  'Nough Demolition  GR37T8AT8TWIAQ2J         5544 2018-03-10   \n",
       "17946  'Nough Demolition  GSJYRP4LYYUQ70ZJ         4584 2014-12-21   \n",
       "17947  'Nough Demolition  IHPD932F3JWGAIKP         5014 2016-11-11   \n",
       "17948  'Nough Demolition  LJ4QDCZOM8MQGNQM         8200 2018-05-12   \n",
       "17949  'Nough Demolition  CQ0FADIRVIXDCY8K         8626 2017-04-29   \n",
       "17950  'Nough Demolition  O63D92H6VA15CI0N         8806 2016-06-28   \n",
       "17951  'Nough Demolition  M6P4AIC1VGFV0FJD         7322 2015-02-10   \n",
       "17952  'Nough Demolition  ASOSWRDTXC94FEPM         3999 2017-01-31   \n",
       "17953  'Nough Demolition  366SQOTCS4Y5AWA5         8408 2017-04-11   \n",
       "\n",
       "             Sales Rep      Sales Rep Id  Converted  \n",
       "17923  Clarissa Harvey  XPBDN8KC3CIFPNPP          0  \n",
       "17924  Clarissa Harvey  XPBDN8KC3CIFPNPP          0  \n",
       "17925  Clarissa Harvey  XPBDN8KC3CIFPNPP          0  \n",
       "17926  Clarissa Harvey  XPBDN8KC3CIFPNPP          1  \n",
       "17927  Clarissa Harvey  XPBDN8KC3CIFPNPP          0  \n",
       "17928  Clarissa Harvey  XPBDN8KC3CIFPNPP          0  \n",
       "17929  Clarissa Harvey  XPBDN8KC3CIFPNPP          0  \n",
       "17930  Clarissa Harvey  XPBDN8KC3CIFPNPP          1  \n",
       "17931  Clarissa Harvey  XPBDN8KC3CIFPNPP          1  \n",
       "17932  Clarissa Harvey  XPBDN8KC3CIFPNPP          1  \n",
       "17933  Clarissa Harvey  XPBDN8KC3CIFPNPP          0  \n",
       "17934  Clarissa Harvey  XPBDN8KC3CIFPNPP          0  \n",
       "17935  Clarissa Harvey  XPBDN8KC3CIFPNPP          0  \n",
       "17936  Clarissa Harvey  XPBDN8KC3CIFPNPP          0  \n",
       "17937  Clarissa Harvey  XPBDN8KC3CIFPNPP          0  \n",
       "17938  Clarissa Harvey  XPBDN8KC3CIFPNPP          0  \n",
       "17939  Clarissa Harvey  XPBDN8KC3CIFPNPP          1  \n",
       "17940  Clarissa Harvey  XPBDN8KC3CIFPNPP          0  \n",
       "17941  Clarissa Harvey  XPBDN8KC3CIFPNPP          1  \n",
       "17942  Clarissa Harvey  XPBDN8KC3CIFPNPP          0  \n",
       "17943  Clarissa Harvey  XPBDN8KC3CIFPNPP          0  \n",
       "17944  Clarissa Harvey  XPBDN8KC3CIFPNPP          0  \n",
       "17945  Clarissa Harvey  XPBDN8KC3CIFPNPP          0  \n",
       "17946  Clarissa Harvey  XPBDN8KC3CIFPNPP          0  \n",
       "17947  Clarissa Harvey  XPBDN8KC3CIFPNPP          1  \n",
       "17948  Clarissa Harvey  XPBDN8KC3CIFPNPP          0  \n",
       "17949  Clarissa Harvey  XPBDN8KC3CIFPNPP          0  \n",
       "17950  Clarissa Harvey  XPBDN8KC3CIFPNPP          1  \n",
       "17951  Clarissa Harvey  XPBDN8KC3CIFPNPP          0  \n",
       "17952  Clarissa Harvey  XPBDN8KC3CIFPNPP          0  \n",
       "17953  Clarissa Harvey  XPBDN8KC3CIFPNPP          0  "
      ]
     },
     "execution_count": 34,
     "metadata": {},
     "output_type": "execute_result"
    }
   ],
   "source": [
    "data[data[\"Company Name\"]==\"'Nough Demolition\"]"
   ]
  },
  {
   "cell_type": "code",
   "execution_count": 35,
   "id": "47da20c1",
   "metadata": {},
   "outputs": [
    {
     "data": {
      "text/plain": [
       "(31, 7)"
      ]
     },
     "execution_count": 35,
     "metadata": {},
     "output_type": "execute_result"
    }
   ],
   "source": [
    "# isse ya andaza huta heke ( 1 = 8 ) he or baqi sub ( 0 = 23)) or 31 data he \n",
    "data[data[\"Company Name\"]==\"'Nough Demolition\"].shape"
   ]
  },
  {
   "cell_type": "code",
   "execution_count": 37,
   "id": "15093079",
   "metadata": {},
   "outputs": [
    {
     "data": {
      "text/plain": [
       "Converted\n",
       "0    23\n",
       "1     8\n",
       "Name: count, dtype: int64"
      ]
     },
     "execution_count": 37,
     "metadata": {},
     "output_type": "execute_result"
    }
   ],
   "source": [
    "# aghar sahi se dekha jae 31 ka matlab to ya he .\n",
    "company_group.get_group(\"'Nough Demolition\")[\"Converted\"].value_counts()"
   ]
  },
  {
   "cell_type": "raw",
   "id": "9b4d2ea2",
   "metadata": {},
   "source": [
    " kis / kitne  company ne koi bhi sales nahi ki "
   ]
  },
  {
   "cell_type": "code",
   "execution_count": 38,
   "id": "ce39f960",
   "metadata": {},
   "outputs": [
    {
     "data": {
      "text/plain": [
       "133"
      ]
     },
     "execution_count": 38,
     "metadata": {},
     "output_type": "execute_result"
    }
   ],
   "source": [
    "# 133 company ne koi sales nahi ki\n",
    "nikammi_company = data.groupby(\"Company Name\")[\"Converted\"].sum().sort_values(ascending = True)\n",
    "nikammi_company[nikammi_company==0].size"
   ]
  },
  {
   "cell_type": "markdown",
   "id": "e3e6971a",
   "metadata": {},
   "source": [
    "## part 2 start"
   ]
  },
  {
   "cell_type": "code",
   "execution_count": 39,
   "id": "adb47c91",
   "metadata": {},
   "outputs": [
    {
     "data": {
      "text/html": [
       "<div>\n",
       "<style scoped>\n",
       "    .dataframe tbody tr th:only-of-type {\n",
       "        vertical-align: middle;\n",
       "    }\n",
       "\n",
       "    .dataframe tbody tr th {\n",
       "        vertical-align: top;\n",
       "    }\n",
       "\n",
       "    .dataframe thead th {\n",
       "        text-align: right;\n",
       "    }\n",
       "</style>\n",
       "<table border=\"1\" class=\"dataframe\">\n",
       "  <thead>\n",
       "    <tr style=\"text-align: right;\">\n",
       "      <th></th>\n",
       "      <th>Company Name</th>\n",
       "      <th>Order Id</th>\n",
       "      <th>Order Value</th>\n",
       "      <th>Date</th>\n",
       "      <th>Sales Rep</th>\n",
       "      <th>Sales Rep Id</th>\n",
       "      <th>Converted</th>\n",
       "    </tr>\n",
       "  </thead>\n",
       "  <tbody>\n",
       "    <tr>\n",
       "      <th>0</th>\n",
       "      <td>Melancholy Social-Role</td>\n",
       "      <td>HZSXLI1IS9RGABZW</td>\n",
       "      <td>6952</td>\n",
       "      <td>2017-10-13</td>\n",
       "      <td>William Taylor</td>\n",
       "      <td>ZTZA0ZLYZR85PTUJ</td>\n",
       "      <td>0</td>\n",
       "    </tr>\n",
       "    <tr>\n",
       "      <th>1</th>\n",
       "      <td>Melancholy Social-Role</td>\n",
       "      <td>582WPS3OW8T6YT0R</td>\n",
       "      <td>7930</td>\n",
       "      <td>2017-09-02</td>\n",
       "      <td>William Taylor</td>\n",
       "      <td>ZTZA0ZLYZR85PTUJ</td>\n",
       "      <td>0</td>\n",
       "    </tr>\n",
       "    <tr>\n",
       "      <th>2</th>\n",
       "      <td>Melancholy Social-Role</td>\n",
       "      <td>KRF65MQZBOYG4Y9T</td>\n",
       "      <td>5538</td>\n",
       "      <td>2016-12-21</td>\n",
       "      <td>William Taylor</td>\n",
       "      <td>ZTZA0ZLYZR85PTUJ</td>\n",
       "      <td>1</td>\n",
       "    </tr>\n",
       "    <tr>\n",
       "      <th>3</th>\n",
       "      <td>Melancholy Social-Role</td>\n",
       "      <td>N3EDZ5V1WGSWW828</td>\n",
       "      <td>1113</td>\n",
       "      <td>2018-06-03</td>\n",
       "      <td>William Taylor</td>\n",
       "      <td>ZTZA0ZLYZR85PTUJ</td>\n",
       "      <td>0</td>\n",
       "    </tr>\n",
       "    <tr>\n",
       "      <th>4</th>\n",
       "      <td>Melancholy Social-Role</td>\n",
       "      <td>QXBC8COXEXGFSPLP</td>\n",
       "      <td>4596</td>\n",
       "      <td>2014-07-26</td>\n",
       "      <td>William Taylor</td>\n",
       "      <td>ZTZA0ZLYZR85PTUJ</td>\n",
       "      <td>0</td>\n",
       "    </tr>\n",
       "  </tbody>\n",
       "</table>\n",
       "</div>"
      ],
      "text/plain": [
       "             Company Name          Order Id  Order Value       Date  \\\n",
       "0  Melancholy Social-Role  HZSXLI1IS9RGABZW         6952 2017-10-13   \n",
       "1  Melancholy Social-Role  582WPS3OW8T6YT0R         7930 2017-09-02   \n",
       "2  Melancholy Social-Role  KRF65MQZBOYG4Y9T         5538 2016-12-21   \n",
       "3  Melancholy Social-Role  N3EDZ5V1WGSWW828         1113 2018-06-03   \n",
       "4  Melancholy Social-Role  QXBC8COXEXGFSPLP         4596 2014-07-26   \n",
       "\n",
       "        Sales Rep      Sales Rep Id  Converted  \n",
       "0  William Taylor  ZTZA0ZLYZR85PTUJ          0  \n",
       "1  William Taylor  ZTZA0ZLYZR85PTUJ          0  \n",
       "2  William Taylor  ZTZA0ZLYZR85PTUJ          1  \n",
       "3  William Taylor  ZTZA0ZLYZR85PTUJ          0  \n",
       "4  William Taylor  ZTZA0ZLYZR85PTUJ          0  "
      ]
     },
     "execution_count": 39,
     "metadata": {},
     "output_type": "execute_result"
    }
   ],
   "source": [
    "data.head(5)"
   ]
  },
  {
   "cell_type": "code",
   "execution_count": 57,
   "id": "e161e5fe",
   "metadata": {},
   "outputs": [
    {
     "data": {
      "text/plain": [
       "Company Name\n",
       "'Nough Demolition          170606\n",
       "1/50Th Stipulation         103917\n",
       "10-Hour Bestseller         126331\n",
       "10-Team Formats            102651\n",
       "10-Year Presentation        90579\n",
       "                            ...  \n",
       "York-Mind Bod/Day/1,000     73085\n",
       "York-Mind Titan             96402\n",
       "Youngest Fund               68182\n",
       "Zaporogian Shapes           85793\n",
       "Zodiacal Indigation         90633\n",
       "Name: Order Value, Length: 4619, dtype: int64"
      ]
     },
     "execution_count": 57,
     "metadata": {},
     "output_type": "execute_result"
    }
   ],
   "source": [
    "data.groupby(\"Company Name\")[\"Order Value\"].sum()"
   ]
  },
  {
   "cell_type": "raw",
   "id": "495774d9",
   "metadata": {},
   "source": [
    " kis comapny ne hights amount sel ki he"
   ]
  },
  {
   "cell_type": "code",
   "execution_count": 67,
   "id": "47a0ec86",
   "metadata": {},
   "outputs": [
    {
     "data": {
      "text/plain": [
       "Company Name         Converted\n",
       "'Nough Demolition    0            124550\n",
       "                     1             46056\n",
       "1/50Th Stipulation   0             94313\n",
       "                     1              9604\n",
       "10-Hour Bestseller   0            104000\n",
       "                                   ...  \n",
       "Youngest Fund        1              8887\n",
       "Zaporogian Shapes    0             64381\n",
       "                     1             21412\n",
       "Zodiacal Indigation  0             64852\n",
       "                     1             25781\n",
       "Name: Order Value, Length: 9105, dtype: int64"
      ]
     },
     "execution_count": 67,
     "metadata": {},
     "output_type": "execute_result"
    }
   ],
   "source": [
    "# isme 0 or 1 ko alagh alagh karke company ka group by karke print deya\n",
    "# take pata chal sake is company ne kitna sale ki or kitna nahi\n",
    "data.groupby([\"Company Name\",\"Converted\"])[\"Order Value\"].sum()"
   ]
  },
  {
   "cell_type": "code",
   "execution_count": 68,
   "id": "a74f3058",
   "metadata": {},
   "outputs": [
    {
     "data": {
      "text/html": [
       "<div>\n",
       "<style scoped>\n",
       "    .dataframe tbody tr th:only-of-type {\n",
       "        vertical-align: middle;\n",
       "    }\n",
       "\n",
       "    .dataframe tbody tr th {\n",
       "        vertical-align: top;\n",
       "    }\n",
       "\n",
       "    .dataframe thead th {\n",
       "        text-align: right;\n",
       "    }\n",
       "</style>\n",
       "<table border=\"1\" class=\"dataframe\">\n",
       "  <thead>\n",
       "    <tr style=\"text-align: right;\">\n",
       "      <th></th>\n",
       "      <th>Company Name</th>\n",
       "      <th>Order Id</th>\n",
       "      <th>Order Value</th>\n",
       "      <th>Date</th>\n",
       "      <th>Sales Rep</th>\n",
       "      <th>Sales Rep Id</th>\n",
       "      <th>Converted</th>\n",
       "    </tr>\n",
       "  </thead>\n",
       "  <tbody>\n",
       "    <tr>\n",
       "      <th>2</th>\n",
       "      <td>Melancholy Social-Role</td>\n",
       "      <td>KRF65MQZBOYG4Y9T</td>\n",
       "      <td>5538</td>\n",
       "      <td>2016-12-21</td>\n",
       "      <td>William Taylor</td>\n",
       "      <td>ZTZA0ZLYZR85PTUJ</td>\n",
       "      <td>1</td>\n",
       "    </tr>\n",
       "    <tr>\n",
       "      <th>7</th>\n",
       "      <td>Melancholy Social-Role</td>\n",
       "      <td>JFMNRRRNS5MD8BKQ</td>\n",
       "      <td>8349</td>\n",
       "      <td>2018-02-27</td>\n",
       "      <td>William Taylor</td>\n",
       "      <td>ZTZA0ZLYZR85PTUJ</td>\n",
       "      <td>1</td>\n",
       "    </tr>\n",
       "    <tr>\n",
       "      <th>13</th>\n",
       "      <td>Melancholy Social-Role</td>\n",
       "      <td>TD5F4GJ2LPIJMIM7</td>\n",
       "      <td>913</td>\n",
       "      <td>2018-07-03</td>\n",
       "      <td>William Taylor</td>\n",
       "      <td>ZTZA0ZLYZR85PTUJ</td>\n",
       "      <td>1</td>\n",
       "    </tr>\n",
       "    <tr>\n",
       "      <th>14</th>\n",
       "      <td>Melancholy Social-Role</td>\n",
       "      <td>A96YQNYAU7Z9AM70</td>\n",
       "      <td>516</td>\n",
       "      <td>2015-07-05</td>\n",
       "      <td>William Taylor</td>\n",
       "      <td>ZTZA0ZLYZR85PTUJ</td>\n",
       "      <td>1</td>\n",
       "    </tr>\n",
       "    <tr>\n",
       "      <th>16</th>\n",
       "      <td>Melancholy Social-Role</td>\n",
       "      <td>5WNCKI809TG9M568</td>\n",
       "      <td>5370</td>\n",
       "      <td>2017-07-09</td>\n",
       "      <td>William Taylor</td>\n",
       "      <td>ZTZA0ZLYZR85PTUJ</td>\n",
       "      <td>1</td>\n",
       "    </tr>\n",
       "    <tr>\n",
       "      <th>...</th>\n",
       "      <td>...</td>\n",
       "      <td>...</td>\n",
       "      <td>...</td>\n",
       "      <td>...</td>\n",
       "      <td>...</td>\n",
       "      <td>...</td>\n",
       "      <td>...</td>\n",
       "    </tr>\n",
       "    <tr>\n",
       "      <th>99986</th>\n",
       "      <td>Trade-Preparatory Quarterbacks</td>\n",
       "      <td>FLLDB4PNB0Z3CSCM</td>\n",
       "      <td>1293</td>\n",
       "      <td>2017-06-09</td>\n",
       "      <td>Ida Woodward</td>\n",
       "      <td>LF3CPWWZKSNB1AXI</td>\n",
       "      <td>1</td>\n",
       "    </tr>\n",
       "    <tr>\n",
       "      <th>99990</th>\n",
       "      <td>Trade-Preparatory Quarterbacks</td>\n",
       "      <td>I2M8DEJSX9D8956T</td>\n",
       "      <td>9539</td>\n",
       "      <td>2014-11-16</td>\n",
       "      <td>Ida Woodward</td>\n",
       "      <td>LF3CPWWZKSNB1AXI</td>\n",
       "      <td>1</td>\n",
       "    </tr>\n",
       "    <tr>\n",
       "      <th>99992</th>\n",
       "      <td>Trade-Preparatory Quarterbacks</td>\n",
       "      <td>VDI6DV3GWK1JCAJM</td>\n",
       "      <td>178</td>\n",
       "      <td>2017-04-18</td>\n",
       "      <td>Ida Woodward</td>\n",
       "      <td>LF3CPWWZKSNB1AXI</td>\n",
       "      <td>1</td>\n",
       "    </tr>\n",
       "    <tr>\n",
       "      <th>99994</th>\n",
       "      <td>Trade-Preparatory Quarterbacks</td>\n",
       "      <td>L95YJURYBYPKLS5Q</td>\n",
       "      <td>9359</td>\n",
       "      <td>2018-05-19</td>\n",
       "      <td>Ida Woodward</td>\n",
       "      <td>LF3CPWWZKSNB1AXI</td>\n",
       "      <td>1</td>\n",
       "    </tr>\n",
       "    <tr>\n",
       "      <th>99996</th>\n",
       "      <td>Trade-Preparatory Quarterbacks</td>\n",
       "      <td>962CSDMAJ49E0CRK</td>\n",
       "      <td>442</td>\n",
       "      <td>2018-08-02</td>\n",
       "      <td>Ida Woodward</td>\n",
       "      <td>LF3CPWWZKSNB1AXI</td>\n",
       "      <td>1</td>\n",
       "    </tr>\n",
       "  </tbody>\n",
       "</table>\n",
       "<p>16908 rows × 7 columns</p>\n",
       "</div>"
      ],
      "text/plain": [
       "                         Company Name          Order Id  Order Value  \\\n",
       "2              Melancholy Social-Role  KRF65MQZBOYG4Y9T         5538   \n",
       "7              Melancholy Social-Role  JFMNRRRNS5MD8BKQ         8349   \n",
       "13             Melancholy Social-Role  TD5F4GJ2LPIJMIM7          913   \n",
       "14             Melancholy Social-Role  A96YQNYAU7Z9AM70          516   \n",
       "16             Melancholy Social-Role  5WNCKI809TG9M568         5370   \n",
       "...                               ...               ...          ...   \n",
       "99986  Trade-Preparatory Quarterbacks  FLLDB4PNB0Z3CSCM         1293   \n",
       "99990  Trade-Preparatory Quarterbacks  I2M8DEJSX9D8956T         9539   \n",
       "99992  Trade-Preparatory Quarterbacks  VDI6DV3GWK1JCAJM          178   \n",
       "99994  Trade-Preparatory Quarterbacks  L95YJURYBYPKLS5Q         9359   \n",
       "99996  Trade-Preparatory Quarterbacks  962CSDMAJ49E0CRK          442   \n",
       "\n",
       "            Date       Sales Rep      Sales Rep Id  Converted  \n",
       "2     2016-12-21  William Taylor  ZTZA0ZLYZR85PTUJ          1  \n",
       "7     2018-02-27  William Taylor  ZTZA0ZLYZR85PTUJ          1  \n",
       "13    2018-07-03  William Taylor  ZTZA0ZLYZR85PTUJ          1  \n",
       "14    2015-07-05  William Taylor  ZTZA0ZLYZR85PTUJ          1  \n",
       "16    2017-07-09  William Taylor  ZTZA0ZLYZR85PTUJ          1  \n",
       "...          ...             ...               ...        ...  \n",
       "99986 2017-06-09    Ida Woodward  LF3CPWWZKSNB1AXI          1  \n",
       "99990 2014-11-16    Ida Woodward  LF3CPWWZKSNB1AXI          1  \n",
       "99992 2017-04-18    Ida Woodward  LF3CPWWZKSNB1AXI          1  \n",
       "99994 2018-05-19    Ida Woodward  LF3CPWWZKSNB1AXI          1  \n",
       "99996 2018-08-02    Ida Woodward  LF3CPWWZKSNB1AXI          1  \n",
       "\n",
       "[16908 rows x 7 columns]"
      ]
     },
     "execution_count": 68,
     "metadata": {},
     "output_type": "execute_result"
    }
   ],
   "source": [
    "# siraf 1 ka data\n",
    "data[data.Converted==1]"
   ]
  },
  {
   "cell_type": "code",
   "execution_count": 80,
   "id": "979fde08",
   "metadata": {},
   "outputs": [
    {
     "data": {
      "text/plain": [
       "Company Name\n",
       "'Nough Demolition       46056\n",
       "1/50Th Stipulation       9604\n",
       "10-Hour Bestseller      22331\n",
       "10-Team Formats          9880\n",
       "10-Year Presentation    15827\n",
       "                        ...  \n",
       "Yellow Perplexity       23999\n",
       "York-Mind Titan         32263\n",
       "Youngest Fund            8887\n",
       "Zaporogian Shapes       21412\n",
       "Zodiacal Indigation     25781\n",
       "Name: Order Value, Length: 4486, dtype: int64"
      ]
     },
     "execution_count": 80,
     "metadata": {},
     "output_type": "execute_result"
    }
   ],
   "source": [
    "# isme 1 ka sum nikal ke de raha he order value ka \n",
    "data[data.Converted==1].groupby(\"Company Name\")[\"Order Value\"].sum()\n",
    "# logic : \n",
    "#        data me gaya converted ko 1 ke barabar keya\n",
    "#        comapny ka groub keya order values par \n",
    "#        company me jo order value the 1 ke ba rabar uska sum huwa \n",
    "#         or data print. "
   ]
  },
  {
   "cell_type": "code",
   "execution_count": 78,
   "id": "58cefba1",
   "metadata": {},
   "outputs": [
    {
     "data": {
      "text/plain": [
       "Company Name\n",
       "Canny Pompousness                     86675\n",
       "Hydrostatic Amazement                 76128\n",
       "Particularistic-Seeming Frog-Haiku    69869\n",
       "Out-Of-Bounds Pacers                  66744\n",
       "Gullible Referral                     63670\n",
       "                                      ...  \n",
       "Bombastic A/3                           134\n",
       "Devout Accenting                        123\n",
       "Fine-Chiseled Ghent                     108\n",
       "Criminal Densmore                       105\n",
       "Phony Calcium                           104\n",
       "Name: Order Value, Length: 4486, dtype: int64"
      ]
     },
     "execution_count": 78,
     "metadata": {},
     "output_type": "execute_result"
    }
   ],
   "source": [
    "#  ya who sum kar raha he jo order value 1 ke barar he or us 1 me\n",
    "#  jo bhi order value me a raha he un sab ka sum de raha he\n",
    "data[data.Converted==1].groupby(\"Company Name\")[\"Order Value\"].sum().sort_values(ascending=False)"
   ]
  },
  {
   "cell_type": "code",
   "execution_count": 133,
   "id": "b0c3ff85",
   "metadata": {},
   "outputs": [
    {
     "data": {
      "text/plain": [
       "Converted\n",
       "0    83092\n",
       "1    16908\n",
       "Name: count, dtype: int64"
      ]
     },
     "execution_count": 133,
     "metadata": {},
     "output_type": "execute_result"
    }
   ],
   "source": [
    "data.Converted.value_counts()"
   ]
  },
  {
   "cell_type": "code",
   "execution_count": 138,
   "id": "1490ae2a",
   "metadata": {},
   "outputs": [
    {
     "data": {
      "text/html": [
       "<div>\n",
       "<style scoped>\n",
       "    .dataframe tbody tr th:only-of-type {\n",
       "        vertical-align: middle;\n",
       "    }\n",
       "\n",
       "    .dataframe tbody tr th {\n",
       "        vertical-align: top;\n",
       "    }\n",
       "\n",
       "    .dataframe thead th {\n",
       "        text-align: right;\n",
       "    }\n",
       "</style>\n",
       "<table border=\"1\" class=\"dataframe\">\n",
       "  <thead>\n",
       "    <tr style=\"text-align: right;\">\n",
       "      <th></th>\n",
       "      <th>Company Name</th>\n",
       "      <th>Order Id</th>\n",
       "      <th>Order Value</th>\n",
       "      <th>Date</th>\n",
       "      <th>Sales Rep</th>\n",
       "      <th>Sales Rep Id</th>\n",
       "      <th>Converted</th>\n",
       "    </tr>\n",
       "  </thead>\n",
       "  <tbody>\n",
       "    <tr>\n",
       "      <th>0</th>\n",
       "      <td>Melancholy Social-Role</td>\n",
       "      <td>HZSXLI1IS9RGABZW</td>\n",
       "      <td>6952</td>\n",
       "      <td>2017-10-13</td>\n",
       "      <td>William Taylor</td>\n",
       "      <td>ZTZA0ZLYZR85PTUJ</td>\n",
       "      <td>0</td>\n",
       "    </tr>\n",
       "    <tr>\n",
       "      <th>1</th>\n",
       "      <td>Melancholy Social-Role</td>\n",
       "      <td>582WPS3OW8T6YT0R</td>\n",
       "      <td>7930</td>\n",
       "      <td>2017-09-02</td>\n",
       "      <td>William Taylor</td>\n",
       "      <td>ZTZA0ZLYZR85PTUJ</td>\n",
       "      <td>0</td>\n",
       "    </tr>\n",
       "  </tbody>\n",
       "</table>\n",
       "</div>"
      ],
      "text/plain": [
       "             Company Name          Order Id  Order Value       Date  \\\n",
       "0  Melancholy Social-Role  HZSXLI1IS9RGABZW         6952 2017-10-13   \n",
       "1  Melancholy Social-Role  582WPS3OW8T6YT0R         7930 2017-09-02   \n",
       "\n",
       "        Sales Rep      Sales Rep Id  Converted  \n",
       "0  William Taylor  ZTZA0ZLYZR85PTUJ          0  \n",
       "1  William Taylor  ZTZA0ZLYZR85PTUJ          0  "
      ]
     },
     "execution_count": 138,
     "metadata": {},
     "output_type": "execute_result"
    }
   ],
   "source": [
    "data.groupby(\"Converted\").get_group(0).head(2)"
   ]
  },
  {
   "cell_type": "code",
   "execution_count": null,
   "id": "d4971ea8",
   "metadata": {},
   "outputs": [],
   "source": [
    "Sales"
   ]
  },
  {
   "cell_type": "code",
   "execution_count": 77,
   "id": "39f02e0c",
   "metadata": {},
   "outputs": [
    {
     "data": {
      "text/plain": [
       "86675"
      ]
     },
     "execution_count": 77,
     "metadata": {},
     "output_type": "execute_result"
    }
   ],
   "source": [
    "#   ya order value ka max de raha he\n",
    "data[data.Converted==1].groupby(\"Company Name\")[\"Order Value\"].sum().max()"
   ]
  },
  {
   "cell_type": "code",
   "execution_count": 92,
   "id": "ccdbbad1",
   "metadata": {},
   "outputs": [
    {
     "data": {
      "text/plain": [
       "Index(['Canny Pompousness', 'Hydrostatic Amazement',\n",
       "       'Particularistic-Seeming Frog-Haiku'],\n",
       "      dtype='object', name='Company Name')"
      ]
     },
     "execution_count": 92,
     "metadata": {},
     "output_type": "execute_result"
    }
   ],
   "source": [
    "# index me hame batae gha ke 1 se lekar 3 ka company ka name aega\n",
    "data[data.Converted==1].groupby(\"Company Name\")[\"Order Value\"].sum().sort_values(ascending=False).index[0:3]"
   ]
  },
  {
   "cell_type": "code",
   "execution_count": 94,
   "id": "e91c5d81",
   "metadata": {},
   "outputs": [
    {
     "data": {
      "text/plain": [
       "Company Name\n",
       "Canny Pompousness    86675\n",
       "Name: Order Value, dtype: int64"
      ]
     },
     "execution_count": 94,
     "metadata": {},
     "output_type": "execute_result"
    }
   ],
   "source": [
    "# ya company name or usma sum nikal ke de raha he\n",
    "data[data.Converted==1].groupby(\"Company Name\")[\"Order Value\"].sum().sort_values(ascending=False)[0:1]"
   ]
  },
  {
   "cell_type": "code",
   "execution_count": 129,
   "id": "9de7a3c6",
   "metadata": {},
   "outputs": [
    {
     "data": {
      "text/plain": [
       "Company Name    Zodiacal Indigation\n",
       "Order Id           ZZXC29Y2HWXZ1MJR\n",
       "Order Value                    9999\n",
       "Date            2018-12-31 00:00:00\n",
       "Sales Rep            Yvonne Lindsey\n",
       "Sales Rep Id       ZTZA0ZLYZR85PTUJ\n",
       "Converted                         1\n",
       "dtype: object"
      ]
     },
     "execution_count": 129,
     "metadata": {},
     "output_type": "execute_result"
    }
   ],
   "source": [
    "data[data.Converted==1].max()"
   ]
  },
  {
   "cell_type": "code",
   "execution_count": 114,
   "id": "cbef1d42",
   "metadata": {},
   "outputs": [
    {
     "data": {
      "text/plain": [
       "186425"
      ]
     },
     "execution_count": 114,
     "metadata": {},
     "output_type": "execute_result"
    }
   ],
   "source": [
    "# company me sub se heigh sels\n",
    "data.groupby([\"Company Name\",\"Converted\"])[\"Order Value\"].sum().max()\n",
    "#  ya data ka  sare values ko sum kar raha he"
   ]
  },
  {
   "cell_type": "code",
   "execution_count": 131,
   "id": "f8566d6b",
   "metadata": {},
   "outputs": [
    {
     "data": {
      "text/plain": [
       "Sales Rep\n",
       "Jessica Renner      430\n",
       "Alyssa Mckinney     428\n",
       "Elizabeth Gaddy     416\n",
       "Susan Gutierrez     415\n",
       "Georgiann White     413\n",
       "                   ... \n",
       "Viola Ates           18\n",
       "Debra Vermillion     17\n",
       "Alfredo Weise        17\n",
       "Simon Hearn          15\n",
       "Robert Bowen         15\n",
       "Name: count, Length: 499, dtype: int64"
      ]
     },
     "execution_count": 131,
     "metadata": {},
     "output_type": "execute_result"
    }
   ],
   "source": [
    "data[\"Sales Rep\"].value_counts()"
   ]
  },
  {
   "cell_type": "raw",
   "id": "be5b7c11",
   "metadata": {},
   "source": [
    "RANDOM DATA FRAME"
   ]
  },
  {
   "cell_type": "code",
   "execution_count": 145,
   "id": "3132559f",
   "metadata": {},
   "outputs": [
    {
     "data": {
      "text/html": [
       "<div>\n",
       "<style scoped>\n",
       "    .dataframe tbody tr th:only-of-type {\n",
       "        vertical-align: middle;\n",
       "    }\n",
       "\n",
       "    .dataframe tbody tr th {\n",
       "        vertical-align: top;\n",
       "    }\n",
       "\n",
       "    .dataframe thead th {\n",
       "        text-align: right;\n",
       "    }\n",
       "</style>\n",
       "<table border=\"1\" class=\"dataframe\">\n",
       "  <thead>\n",
       "    <tr style=\"text-align: right;\">\n",
       "      <th></th>\n",
       "      <th>a</th>\n",
       "      <th>b</th>\n",
       "      <th>c</th>\n",
       "      <th>d</th>\n",
       "    </tr>\n",
       "  </thead>\n",
       "  <tbody>\n",
       "    <tr>\n",
       "      <th>0</th>\n",
       "      <td>0.556726</td>\n",
       "      <td>0.906428</td>\n",
       "      <td>0.651947</td>\n",
       "      <td>0.499588</td>\n",
       "    </tr>\n",
       "    <tr>\n",
       "      <th>1</th>\n",
       "      <td>0.554739</td>\n",
       "      <td>0.240306</td>\n",
       "      <td>0.189437</td>\n",
       "      <td>0.313988</td>\n",
       "    </tr>\n",
       "  </tbody>\n",
       "</table>\n",
       "</div>"
      ],
      "text/plain": [
       "          a         b         c         d\n",
       "0  0.556726  0.906428  0.651947  0.499588\n",
       "1  0.554739  0.240306  0.189437  0.313988"
      ]
     },
     "execution_count": 145,
     "metadata": {},
     "output_type": "execute_result"
    }
   ],
   "source": [
    "random = pd.DataFrame(np.random.random((2,4)),columns=list(\"abcd\"))\n",
    "random                      "
   ]
  },
  {
   "cell_type": "code",
   "execution_count": 146,
   "id": "fa297d0a",
   "metadata": {},
   "outputs": [
    {
     "data": {
      "text/plain": [
       "0    2.614689\n",
       "1    1.298469\n",
       "dtype: float64"
      ]
     },
     "execution_count": 146,
     "metadata": {},
     "output_type": "execute_result"
    }
   ],
   "source": [
    "random.apply(sum, axis=1)"
   ]
  },
  {
   "cell_type": "code",
   "execution_count": 154,
   "id": "95abfecf",
   "metadata": {},
   "outputs": [
    {
     "data": {
      "text/html": [
       "<div>\n",
       "<style scoped>\n",
       "    .dataframe tbody tr th:only-of-type {\n",
       "        vertical-align: middle;\n",
       "    }\n",
       "\n",
       "    .dataframe tbody tr th {\n",
       "        vertical-align: top;\n",
       "    }\n",
       "\n",
       "    .dataframe thead th {\n",
       "        text-align: right;\n",
       "    }\n",
       "</style>\n",
       "<table border=\"1\" class=\"dataframe\">\n",
       "  <thead>\n",
       "    <tr style=\"text-align: right;\">\n",
       "      <th></th>\n",
       "      <th>a</th>\n",
       "      <th>b</th>\n",
       "      <th>c</th>\n",
       "      <th>d</th>\n",
       "    </tr>\n",
       "  </thead>\n",
       "  <tbody>\n",
       "    <tr>\n",
       "      <th>0</th>\n",
       "      <td>0.557</td>\n",
       "      <td>0.906</td>\n",
       "      <td>0.652</td>\n",
       "      <td>0.500</td>\n",
       "    </tr>\n",
       "    <tr>\n",
       "      <th>1</th>\n",
       "      <td>0.555</td>\n",
       "      <td>0.240</td>\n",
       "      <td>0.189</td>\n",
       "      <td>0.314</td>\n",
       "    </tr>\n",
       "  </tbody>\n",
       "</table>\n",
       "</div>"
      ],
      "text/plain": [
       "       a      b      c      d\n",
       "0  0.557  0.906  0.652  0.500\n",
       "1  0.555  0.240  0.189  0.314"
      ]
     },
     "execution_count": 154,
     "metadata": {},
     "output_type": "execute_result"
    }
   ],
   "source": [
    "def div(x):\n",
    "    return round(x,3)\n",
    "random.apply(lambda x : round(x,3),axis=1)"
   ]
  },
  {
   "cell_type": "code",
   "execution_count": 148,
   "id": "5abe83c7",
   "metadata": {},
   "outputs": [
    {
     "data": {
      "text/plain": [
       "0.557"
      ]
     },
     "execution_count": 148,
     "metadata": {},
     "output_type": "execute_result"
    }
   ],
   "source": [
    "div(0.556726)"
   ]
  },
  {
   "cell_type": "markdown",
   "id": "5c481d8b",
   "metadata": {},
   "source": [
    " GROUP BY ME AGREEGATION "
   ]
  },
  {
   "cell_type": "raw",
   "id": "592a8eed",
   "metadata": {},
   "source": [
    "Agreegation me sal ka sum nikalna "
   ]
  },
  {
   "cell_type": "code",
   "execution_count": 159,
   "id": "1af95a6d",
   "metadata": {},
   "outputs": [
    {
     "data": {
      "text/plain": [
       "Date\n",
       "2014-12-31    100422394\n",
       "2015-12-31    101724648\n",
       "2016-12-31    101789642\n",
       "2017-12-31    101957784\n",
       "2018-12-31    100399962\n",
       "Freq: A-DEC, Name: Order Value, dtype: int64"
      ]
     },
     "execution_count": 159,
     "metadata": {},
     "output_type": "execute_result"
    }
   ],
   "source": [
    "# Grouper hamare leya khuch chezey provide karta he jesey [key] or[ freq]\n",
    "# ya time seleris me chalta ya help karta he define karne ke leya\n",
    "data.groupby(pd.Grouper(key=\"Date\",freq=\"Y\"))[\"Order Value\"].apply(sum)"
   ]
  },
  {
   "cell_type": "code",
   "execution_count": null,
   "id": "56122624",
   "metadata": {},
   "outputs": [],
   "source": []
  }
 ],
 "metadata": {
  "kernelspec": {
   "display_name": "Python 3 (ipykernel)",
   "language": "python",
   "name": "python3"
  },
  "language_info": {
   "codemirror_mode": {
    "name": "ipython",
    "version": 3
   },
   "file_extension": ".py",
   "mimetype": "text/x-python",
   "name": "python",
   "nbconvert_exporter": "python",
   "pygments_lexer": "ipython3",
   "version": "3.11.5"
  }
 },
 "nbformat": 4,
 "nbformat_minor": 5
}
